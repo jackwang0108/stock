{
 "cells": [
  {
   "cell_type": "code",
   "execution_count": 89,
   "id": "dc5885f4",
   "metadata": {},
   "outputs": [
    {
     "name": "stdout",
     "output_type": "stream",
     "text": [
      "The autoreload extension is already loaded. To reload it, use:\n",
      "  %reload_ext autoreload\n"
     ]
    }
   ],
   "source": [
    "\"\"\"\n",
    "candle.py 使用自己编写的绘图函数绘制 K 线图\n",
    "\n",
    "    @Time    : 2025/04/26\n",
    "    @Author  : JackWang\n",
    "    @File    : candle.ipynb\n",
    "    @IDE     : VsCode\n",
    "    @Copyright Copyright Shihong Wang (c) 2025 with GNU Public License V3.0\n",
    "\"\"\"\n",
    "# Standard Library\n",
    "from pathlib import Path\n",
    "from datetime import datetime, timedelta\n",
    "\n",
    "\n",
    "# Third-Party Library\n",
    "import numpy as np\n",
    "import pandas as pd\n",
    "import seaborn as sns\n",
    "import matplotlib as mpl\n",
    "import mplfinance as mpf\n",
    "import matplotlib.pyplot as plt\n",
    "import matplotlib.dates as mdates\n",
    "\n",
    "%load_ext autoreload\n",
    "%autoreload 2\n",
    "%matplotlib widget\n",
    "\n",
    "# My Library\n",
    "from notebook_utils import find_my_library\n",
    "\n",
    "with find_my_library() as project_root:\n",
    "    cache_dir = project_root / \"cache\"\n",
    "    \n",
    "    from src.utils.config import load_config\n",
    "    from src.utils.draw import setup_matplotlib, plot_candle\n",
    "    from src.core.tushare_proxy import TuShareProxy\n",
    "    from src.utils.tools import tscode2name, name2tscode, get_relative_trade_day\n",
    "    \n",
    "    setup_matplotlib()\n",
    "\n",
    "config = load_config()\n",
    "proxy = TuShareProxy(config)\n"
   ]
  },
  {
   "cell_type": "code",
   "execution_count": 90,
   "id": "e2e6c122",
   "metadata": {},
   "outputs": [
    {
     "data": {
      "text/html": [
       "<div>\n",
       "<style scoped>\n",
       "    .dataframe tbody tr th:only-of-type {\n",
       "        vertical-align: middle;\n",
       "    }\n",
       "\n",
       "    .dataframe tbody tr th {\n",
       "        vertical-align: top;\n",
       "    }\n",
       "\n",
       "    .dataframe thead th {\n",
       "        text-align: right;\n",
       "    }\n",
       "</style>\n",
       "<table border=\"1\" class=\"dataframe\">\n",
       "  <thead>\n",
       "    <tr style=\"text-align: right;\">\n",
       "      <th></th>\n",
       "      <th>ts_code</th>\n",
       "      <th>trade_date</th>\n",
       "      <th>open</th>\n",
       "      <th>high</th>\n",
       "      <th>low</th>\n",
       "      <th>close</th>\n",
       "      <th>pre_close</th>\n",
       "      <th>change</th>\n",
       "      <th>pct_chg</th>\n",
       "      <th>vol</th>\n",
       "      <th>amount</th>\n",
       "    </tr>\n",
       "  </thead>\n",
       "  <tbody>\n",
       "    <tr>\n",
       "      <th>0</th>\n",
       "      <td>002549.SZ</td>\n",
       "      <td>20250425</td>\n",
       "      <td>9.43</td>\n",
       "      <td>9.60</td>\n",
       "      <td>8.70</td>\n",
       "      <td>8.84</td>\n",
       "      <td>9.32</td>\n",
       "      <td>-0.48</td>\n",
       "      <td>-5.1502</td>\n",
       "      <td>1044474.44</td>\n",
       "      <td>944064.345</td>\n",
       "    </tr>\n",
       "    <tr>\n",
       "      <th>1</th>\n",
       "      <td>002549.SZ</td>\n",
       "      <td>20250424</td>\n",
       "      <td>10.15</td>\n",
       "      <td>10.24</td>\n",
       "      <td>9.23</td>\n",
       "      <td>9.32</td>\n",
       "      <td>10.25</td>\n",
       "      <td>-0.93</td>\n",
       "      <td>-9.0732</td>\n",
       "      <td>1441205.73</td>\n",
       "      <td>1385604.219</td>\n",
       "    </tr>\n",
       "    <tr>\n",
       "      <th>2</th>\n",
       "      <td>002549.SZ</td>\n",
       "      <td>20250423</td>\n",
       "      <td>10.38</td>\n",
       "      <td>11.50</td>\n",
       "      <td>10.11</td>\n",
       "      <td>10.25</td>\n",
       "      <td>10.46</td>\n",
       "      <td>-0.21</td>\n",
       "      <td>-2.0076</td>\n",
       "      <td>1870787.58</td>\n",
       "      <td>2016603.452</td>\n",
       "    </tr>\n",
       "    <tr>\n",
       "      <th>3</th>\n",
       "      <td>002549.SZ</td>\n",
       "      <td>20250422</td>\n",
       "      <td>9.50</td>\n",
       "      <td>10.46</td>\n",
       "      <td>9.31</td>\n",
       "      <td>10.46</td>\n",
       "      <td>9.51</td>\n",
       "      <td>0.95</td>\n",
       "      <td>9.9895</td>\n",
       "      <td>1279989.64</td>\n",
       "      <td>1270778.585</td>\n",
       "    </tr>\n",
       "    <tr>\n",
       "      <th>4</th>\n",
       "      <td>002549.SZ</td>\n",
       "      <td>20250421</td>\n",
       "      <td>9.22</td>\n",
       "      <td>9.51</td>\n",
       "      <td>8.88</td>\n",
       "      <td>9.51</td>\n",
       "      <td>9.22</td>\n",
       "      <td>0.29</td>\n",
       "      <td>3.1453</td>\n",
       "      <td>1034006.34</td>\n",
       "      <td>958053.928</td>\n",
       "    </tr>\n",
       "  </tbody>\n",
       "</table>\n",
       "</div>"
      ],
      "text/plain": [
       "     ts_code trade_date   open   high    low  close  pre_close  change  \\\n",
       "0  002549.SZ   20250425   9.43   9.60   8.70   8.84       9.32   -0.48   \n",
       "1  002549.SZ   20250424  10.15  10.24   9.23   9.32      10.25   -0.93   \n",
       "2  002549.SZ   20250423  10.38  11.50  10.11  10.25      10.46   -0.21   \n",
       "3  002549.SZ   20250422   9.50  10.46   9.31  10.46       9.51    0.95   \n",
       "4  002549.SZ   20250421   9.22   9.51   8.88   9.51       9.22    0.29   \n",
       "\n",
       "   pct_chg         vol       amount  \n",
       "0  -5.1502  1044474.44   944064.345  \n",
       "1  -9.0732  1441205.73  1385604.219  \n",
       "2  -2.0076  1870787.58  2016603.452  \n",
       "3   9.9895  1279989.64  1270778.585  \n",
       "4   3.1453  1034006.34   958053.928  "
      ]
     },
     "execution_count": 90,
     "metadata": {},
     "output_type": "execute_result"
    }
   ],
   "source": [
    "df = proxy.daily(ts_code=name2tscode(\"凯美特气\"), start_date=\"20241201\", end_date=\"20250428\")\n",
    "df.head()\n"
   ]
  },
  {
   "cell_type": "code",
   "execution_count": 91,
   "id": "e9d62d92",
   "metadata": {},
   "outputs": [
    {
     "data": {
      "application/vnd.plotly.v1+json": {
       "config": {
        "plotlyServerURL": "https://plot.ly"
       },
       "data": [
        {
         "close": {
          "bdata": "FK5H4XoUHUAfhetRuB4dQJqZmZmZmRxA7FG4HoXrHEAfhetRuB4dQArXo3A9Ch1AH4XrUbgeHUB7FK5H4XodQI/C9Shcjx1ArkfhehSuHEBcj8L1KFwcQBSuR+F6FBtASOF6FK5HG0AzMzMzMzMbQK5H4XoUrhtAPQrXo3A9GkA9CtejcD0aQHsUrkfhehlAj8L1KFyPGUAK16NwPQoaQEjhehSuRxlAhetRuB6FGEDhehSuR+EXQM3MzMzMzBZACtejcD0KF0CamZmZmZkXQEjhehSuRxdAcT0K16NwF0C4HoXrUbgWQAAAAAAAABdA7FG4HoXrF0AAAAAAAAAYQEjhehSuRxhAZmZmZmZmGECF61G4HoUYQM3MzMzMzBdAZmZmZmZmF0BI4XoUrkcXQGZmZmZmZhdAw/UoXI/CGUA9CtejcD0ZQHE9CtejcBlAcT0K16NwGUDsUbgehesZQOxRuB6F6xlAKVyPwvUoGkCamZmZmZkZQHsUrkfhehlApHA9CtejGUDNzMzMzMwYQGZmZmZmZhlAw/UoXI/CGUC4HoXrUbgZQK5H4XoUrhlA9ihcj8L1GUB7FK5H4XoaQDMzMzMzMxpAZmZmZmZmGUDsUbgehesZQEjhehSuRxpACtejcD0KGkAUrkfhehQaQNejcD0K1xlAXI/C9ShcGkAfhetRuB4aQKRwPQrXoxlAKVyPwvUoGUCPwvUoXI8ZQIXrUbgehRlAhetRuB6FGUAzMzMzMzMZQD0K16NwPRlAFK5H4XoUGUBSuB6F61EYQI/C9ShcjxhAFK5H4XoUGUCamZmZmZkbQFyPwvUoXB5AMzMzMzOzIEDhehSuR2EiQLgehetROCRAuB6F61E4JEA9CtejcD0mQPYoXI/CdShAhetRuB4FJkCPwvUoXA8kQGZmZmZm5iRAcT0K16PwI0C4HoXrUTgiQKRwPQrXoyFA9ihcj8J1IkBxPQrXo3AiQIXrUbgeBSNA7FG4HoXrJEAAAAAAAIAkQKRwPQrXoyJArkfhehSuIUA=",
          "dtype": "f8"
         },
         "decreasing": {
          "fillcolor": "rgba(44, 164, 83, 0.7)",
          "line": {
           "color": "#2CA453"
          }
         },
         "high": {
          "bdata": "FK5H4XoUHUCamZmZmZkdQK5H4XoUrh1AAAAAAAAAHUAfhetRuB4dQI/C9Shcjx1A9ihcj8L1HUCF61G4HoUdQJqZmZmZmR1Aj8L1KFyPHUDsUbgehescQI/C9ShcjxxArkfhehSuG0BmZmZmZmYbQAAAAAAAABxAuB6F61G4G0CuR+F6FK4aQEjhehSuRxpAzczMzMzMGUBSuB6F61EaQBSuR+F6FBpAhetRuB6FGUDNzMzMzMwYQDMzMzMzMxhAUrgehetRF0CamZmZmZkXQLgehetRuBdAw/UoXI/CF0DD9Shcj8IXQClcj8L1KBdA9ihcj8L1F0AK16NwPQoYQJqZmZmZmRhArkfhehSuGEC4HoXrUbgYQHsUrkfhehhAzczMzMzMF0DsUbgehesXQIXrUbgehRdAw/UoXI/CGUBxPQrXo3AaQHE9CtejcBlArkfhehSuGUD2KFyPwvUZQArXo3A9ChpAmpmZmZmZGkApXI/C9SgaQMP1KFyPwhlApHA9CtejGUDD9Shcj8IZQGZmZmZmZhlAw/UoXI/CGUDNzMzMzMwZQOF6FK5H4RlASOF6FK5HGkDhehSuR+EaQK5H4XoUrhpAMzMzMzMzGkApXI/C9SgaQFK4HoXrURpAXI/C9ShcGkA9CtejcD0aQClcj8L1KBpAcT0K16NwGkAzMzMzMzMaQFK4HoXrURpAzczMzMzMGUCamZmZmZkZQLgehetRuBlACtejcD0KGkCamZmZmZkZQGZmZmZmZhlAuB6F61G4GUBSuB6F61EZQNejcD0K1xhASOF6FK5HGUCamZmZmZkbQFyPwvUoXB5AMzMzMzOzIEDhehSuR2EiQLgehetROCRAPQrXo3A9JkA9CtejcD0mQPYoXI/CdShArkfhehSuJ0CuR+F6FC4mQDMzMzMzsyVAmpmZmZmZJEAAAAAAAIAkQI/C9ShcjyJAZmZmZmbmIkDsUbgehWsjQIXrUbgeBSNA7FG4HoXrJEAAAAAAAAAnQHsUrkfheiRAMzMzMzMzI0A=",
          "dtype": "f8"
         },
         "increasing": {
          "fillcolor": "rgba(227, 52, 47, 0.7)",
          "line": {
           "color": "#E3342F"
          }
         },
         "line": {
          "width": 1
         },
         "low": {
          "bdata": "PQrXo3A9HEDNzMzMzMwcQGZmZmZmZhxAPQrXo3A9HEBSuB6F61EcQLgehetRuBxAFK5H4XoUHUD2KFyPwvUcQArXo3A9Ch1ArkfhehSuHEA9CtejcD0cQArXo3A9ChtArkfhehSuGkDD9Shcj8IaQAAAAAAAABtAH4XrUbgeGkC4HoXrUbgZQD0K16NwPRlAZmZmZmZmGUBxPQrXo3AZQEjhehSuRxlAcT0K16NwGEC4HoXrUbgXQMP1KFyPwhZACtejcD0KFkAAAAAAAAAXQI/C9ShcjxZAAAAAAAAAF0CuR+F6FK4WQEjhehSuRxZAKVyPwvUoF0CPwvUoXI8XQPYoXI/C9RdA9ihcj8L1F0AUrkfhehQYQHsUrkfhehdAUrgehetRF0ApXI/C9SgXQBSuR+F6FBdAcT0K16NwF0AUrkfhehQZQLgehetRuBhAFK5H4XoUGUBcj8L1KFwZQHsUrkfhehlAuB6F61G4GUCF61G4HoUZQFyPwvUoXBlAKVyPwvUoGUDD9Shcj8IYQLgehetRuBhAKVyPwvUoGUBcj8L1KFwZQFyPwvUoXBlAXI/C9ShcGUAAAAAAAAAaQLgehetRuBlASOF6FK5HGUCF61G4HoUZQK5H4XoUrhlApHA9CtejGUDNzMzMzMwZQK5H4XoUrhlA4XoUrkfhGUDNzMzMzMwZQJqZmZmZmRlAzczMzMzMGEDhehSuR+EYQHsUrkfhehlAexSuR+F6GUAfhetRuB4ZQBSuR+F6FBlACtejcD0KGUDXo3A9CtcXQClcj8L1KBhAhetRuB6FGEDD9Shcj8IYQFyPwvUoXB5AMzMzMzOzIEAK16NwPYogQGZmZmZmZiJAAAAAAAAAI0AzMzMzMzMiQAAAAAAAACVAhetRuB4FJkBSuB6F69EjQDMzMzMzMyNAcT0K16NwI0ApXI/C9SgiQClcj8L1KCFA16NwPQpXIUDD9Shcj8IhQMP1KFyPwiFAH4XrUbieIkC4HoXrUTgkQPYoXI/CdSJAZmZmZmZmIUA=",
          "dtype": "f8"
         },
         "name": "股价",
         "open": {
          "bdata": "ZmZmZmZmHEBcj8L1KFwdQDMzMzMzMx1AXI/C9ShcHEDhehSuR+EcQB+F61G4Hh1AmpmZmZmZHUAK16NwPQodQIXrUbgehR1AZmZmZmZmHUDD9Shcj8IcQFyPwvUoXBxASOF6FK5HG0A9CtejcD0bQClcj8L1KBtAexSuR+F6G0BmZmZmZmYaQEjhehSuRxpAZmZmZmZmGUCPwvUoXI8ZQAAAAAAAABpAUrgehetRGUCF61G4HoUYQPYoXI/C9RdA16NwPQrXFkBcj8L1KFwXQI/C9ShcjxdAKVyPwvUoF0CPwvUoXI8XQIXrUbgehRZASOF6FK5HF0D2KFyPwvUXQBSuR+F6FBhAKVyPwvUoGECPwvUoXI8YQFK4HoXrURhAzczMzMzMF0CamZmZmZkXQB+F61G4HhdAcT0K16NwF0BI4XoUrkcaQFK4HoXrURlAPQrXo3A9GUB7FK5H4XoZQOxRuB6F6xlA7FG4HoXrGUApXI/C9SgaQHsUrkfhehlAhetRuB6FGUDD9Shcj8IZQOxRuB6F6xhASOF6FK5HGUCuR+F6FK4ZQJqZmZmZmRlAexSuR+F6GUAAAAAAAAAaQKRwPQrXoxpAFK5H4XoUGkCF61G4HoUZQM3MzMzMzBlAMzMzMzMzGkAUrkfhehQaQArXo3A9ChpAFK5H4XoUGkAK16NwPQoaQD0K16NwPRpApHA9CtejGUApXI/C9SgZQI/C9ShcjxlArkfhehSuGUCF61G4HoUZQBSuR+F6FBlAH4XrUbgeGUBSuB6F61EZQFK4HoXrURhApHA9CtejGEAUrkfhehQZQFyPwvUoXB5AMzMzMzOzIEAzMzMzM7MgQLgehetROCRAzczMzMzMI0AzMzMzMzMiQJqZmZmZmSVAmpmZmZmZJkBSuB6F69EjQDMzMzMzMyNAmpmZmZmZJEBI4XoUrscjQB+F61G4HiJAcT0K16NwIUCkcD0K1yMiQHE9CtejcCJAAAAAAAAAI0DD9Shcj8IkQM3MzMzMTCRAXI/C9SjcIkA=",
          "dtype": "f8"
         },
         "type": "candlestick",
         "x": [
          "2024-12-02T00:00:00.000000000",
          "2024-12-03T00:00:00.000000000",
          "2024-12-04T00:00:00.000000000",
          "2024-12-05T00:00:00.000000000",
          "2024-12-06T00:00:00.000000000",
          "2024-12-09T00:00:00.000000000",
          "2024-12-10T00:00:00.000000000",
          "2024-12-11T00:00:00.000000000",
          "2024-12-12T00:00:00.000000000",
          "2024-12-13T00:00:00.000000000",
          "2024-12-16T00:00:00.000000000",
          "2024-12-17T00:00:00.000000000",
          "2024-12-18T00:00:00.000000000",
          "2024-12-19T00:00:00.000000000",
          "2024-12-20T00:00:00.000000000",
          "2024-12-23T00:00:00.000000000",
          "2024-12-24T00:00:00.000000000",
          "2024-12-25T00:00:00.000000000",
          "2024-12-26T00:00:00.000000000",
          "2024-12-27T00:00:00.000000000",
          "2024-12-30T00:00:00.000000000",
          "2024-12-31T00:00:00.000000000",
          "2025-01-02T00:00:00.000000000",
          "2025-01-03T00:00:00.000000000",
          "2025-01-06T00:00:00.000000000",
          "2025-01-07T00:00:00.000000000",
          "2025-01-08T00:00:00.000000000",
          "2025-01-09T00:00:00.000000000",
          "2025-01-10T00:00:00.000000000",
          "2025-01-13T00:00:00.000000000",
          "2025-01-14T00:00:00.000000000",
          "2025-01-15T00:00:00.000000000",
          "2025-01-16T00:00:00.000000000",
          "2025-01-17T00:00:00.000000000",
          "2025-01-20T00:00:00.000000000",
          "2025-01-21T00:00:00.000000000",
          "2025-01-22T00:00:00.000000000",
          "2025-01-23T00:00:00.000000000",
          "2025-01-24T00:00:00.000000000",
          "2025-01-27T00:00:00.000000000",
          "2025-02-05T00:00:00.000000000",
          "2025-02-06T00:00:00.000000000",
          "2025-02-07T00:00:00.000000000",
          "2025-02-10T00:00:00.000000000",
          "2025-02-11T00:00:00.000000000",
          "2025-02-12T00:00:00.000000000",
          "2025-02-13T00:00:00.000000000",
          "2025-02-14T00:00:00.000000000",
          "2025-02-17T00:00:00.000000000",
          "2025-02-18T00:00:00.000000000",
          "2025-02-19T00:00:00.000000000",
          "2025-02-20T00:00:00.000000000",
          "2025-02-21T00:00:00.000000000",
          "2025-02-24T00:00:00.000000000",
          "2025-02-25T00:00:00.000000000",
          "2025-02-26T00:00:00.000000000",
          "2025-02-27T00:00:00.000000000",
          "2025-02-28T00:00:00.000000000",
          "2025-03-03T00:00:00.000000000",
          "2025-03-04T00:00:00.000000000",
          "2025-03-05T00:00:00.000000000",
          "2025-03-06T00:00:00.000000000",
          "2025-03-07T00:00:00.000000000",
          "2025-03-10T00:00:00.000000000",
          "2025-03-11T00:00:00.000000000",
          "2025-03-12T00:00:00.000000000",
          "2025-03-13T00:00:00.000000000",
          "2025-03-14T00:00:00.000000000",
          "2025-03-17T00:00:00.000000000",
          "2025-03-18T00:00:00.000000000",
          "2025-03-19T00:00:00.000000000",
          "2025-03-20T00:00:00.000000000",
          "2025-03-21T00:00:00.000000000",
          "2025-03-24T00:00:00.000000000",
          "2025-03-25T00:00:00.000000000",
          "2025-03-26T00:00:00.000000000",
          "2025-03-27T00:00:00.000000000",
          "2025-03-28T00:00:00.000000000",
          "2025-03-31T00:00:00.000000000",
          "2025-04-01T00:00:00.000000000",
          "2025-04-02T00:00:00.000000000",
          "2025-04-03T00:00:00.000000000",
          "2025-04-07T00:00:00.000000000",
          "2025-04-08T00:00:00.000000000",
          "2025-04-09T00:00:00.000000000",
          "2025-04-10T00:00:00.000000000",
          "2025-04-11T00:00:00.000000000",
          "2025-04-14T00:00:00.000000000",
          "2025-04-15T00:00:00.000000000",
          "2025-04-16T00:00:00.000000000",
          "2025-04-17T00:00:00.000000000",
          "2025-04-18T00:00:00.000000000",
          "2025-04-21T00:00:00.000000000",
          "2025-04-22T00:00:00.000000000",
          "2025-04-23T00:00:00.000000000",
          "2025-04-24T00:00:00.000000000",
          "2025-04-25T00:00:00.000000000"
         ],
         "xaxis": "x",
         "yaxis": "y"
        },
        {
         "line": {
          "color": "#636EFA",
          "width": 1.5
         },
         "mode": "lines",
         "name": "MA5",
         "opacity": 0.8,
         "type": "scatter",
         "x": [
          "2024-12-02T00:00:00.000000000",
          "2024-12-03T00:00:00.000000000",
          "2024-12-04T00:00:00.000000000",
          "2024-12-05T00:00:00.000000000",
          "2024-12-06T00:00:00.000000000",
          "2024-12-09T00:00:00.000000000",
          "2024-12-10T00:00:00.000000000",
          "2024-12-11T00:00:00.000000000",
          "2024-12-12T00:00:00.000000000",
          "2024-12-13T00:00:00.000000000",
          "2024-12-16T00:00:00.000000000",
          "2024-12-17T00:00:00.000000000",
          "2024-12-18T00:00:00.000000000",
          "2024-12-19T00:00:00.000000000",
          "2024-12-20T00:00:00.000000000",
          "2024-12-23T00:00:00.000000000",
          "2024-12-24T00:00:00.000000000",
          "2024-12-25T00:00:00.000000000",
          "2024-12-26T00:00:00.000000000",
          "2024-12-27T00:00:00.000000000",
          "2024-12-30T00:00:00.000000000",
          "2024-12-31T00:00:00.000000000",
          "2025-01-02T00:00:00.000000000",
          "2025-01-03T00:00:00.000000000",
          "2025-01-06T00:00:00.000000000",
          "2025-01-07T00:00:00.000000000",
          "2025-01-08T00:00:00.000000000",
          "2025-01-09T00:00:00.000000000",
          "2025-01-10T00:00:00.000000000",
          "2025-01-13T00:00:00.000000000",
          "2025-01-14T00:00:00.000000000",
          "2025-01-15T00:00:00.000000000",
          "2025-01-16T00:00:00.000000000",
          "2025-01-17T00:00:00.000000000",
          "2025-01-20T00:00:00.000000000",
          "2025-01-21T00:00:00.000000000",
          "2025-01-22T00:00:00.000000000",
          "2025-01-23T00:00:00.000000000",
          "2025-01-24T00:00:00.000000000",
          "2025-01-27T00:00:00.000000000",
          "2025-02-05T00:00:00.000000000",
          "2025-02-06T00:00:00.000000000",
          "2025-02-07T00:00:00.000000000",
          "2025-02-10T00:00:00.000000000",
          "2025-02-11T00:00:00.000000000",
          "2025-02-12T00:00:00.000000000",
          "2025-02-13T00:00:00.000000000",
          "2025-02-14T00:00:00.000000000",
          "2025-02-17T00:00:00.000000000",
          "2025-02-18T00:00:00.000000000",
          "2025-02-19T00:00:00.000000000",
          "2025-02-20T00:00:00.000000000",
          "2025-02-21T00:00:00.000000000",
          "2025-02-24T00:00:00.000000000",
          "2025-02-25T00:00:00.000000000",
          "2025-02-26T00:00:00.000000000",
          "2025-02-27T00:00:00.000000000",
          "2025-02-28T00:00:00.000000000",
          "2025-03-03T00:00:00.000000000",
          "2025-03-04T00:00:00.000000000",
          "2025-03-05T00:00:00.000000000",
          "2025-03-06T00:00:00.000000000",
          "2025-03-07T00:00:00.000000000",
          "2025-03-10T00:00:00.000000000",
          "2025-03-11T00:00:00.000000000",
          "2025-03-12T00:00:00.000000000",
          "2025-03-13T00:00:00.000000000",
          "2025-03-14T00:00:00.000000000",
          "2025-03-17T00:00:00.000000000",
          "2025-03-18T00:00:00.000000000",
          "2025-03-19T00:00:00.000000000",
          "2025-03-20T00:00:00.000000000",
          "2025-03-21T00:00:00.000000000",
          "2025-03-24T00:00:00.000000000",
          "2025-03-25T00:00:00.000000000",
          "2025-03-26T00:00:00.000000000",
          "2025-03-27T00:00:00.000000000",
          "2025-03-28T00:00:00.000000000",
          "2025-03-31T00:00:00.000000000",
          "2025-04-01T00:00:00.000000000",
          "2025-04-02T00:00:00.000000000",
          "2025-04-03T00:00:00.000000000",
          "2025-04-07T00:00:00.000000000",
          "2025-04-08T00:00:00.000000000",
          "2025-04-09T00:00:00.000000000",
          "2025-04-10T00:00:00.000000000",
          "2025-04-11T00:00:00.000000000",
          "2025-04-14T00:00:00.000000000",
          "2025-04-15T00:00:00.000000000",
          "2025-04-16T00:00:00.000000000",
          "2025-04-17T00:00:00.000000000",
          "2025-04-18T00:00:00.000000000",
          "2025-04-21T00:00:00.000000000",
          "2025-04-22T00:00:00.000000000",
          "2025-04-23T00:00:00.000000000",
          "2025-04-24T00:00:00.000000000",
          "2025-04-25T00:00:00.000000000"
         ],
         "xaxis": "x",
         "y": {
          "bdata": "PQrXo3A9HEDwp8ZLN4kcQNrO91PjpRxAOIlBYOXQHEArhxbZzvccQPYoXI/C9RxA9ihcj8L1HECKQWDl0CIdQN0kBoGVQx1AkxgEVg4tHUAK16NwPQodQG4Sg8DKoRxA/tR46SYxHEC4HoXrUbgbQIXrUbgehRtAgGq8dJMYG0AgsHJoke0aQMMgsHJokRpAPQrXo3A9GkC28/3UeOkZQLgehetRuBlAxks3iUFgGUB1kxgEVg4ZQBov3SQGgRhAgpVDi2znF0DFILByaJEXQFK4HoXrURdACKwcWmQ7F0Ce76fGSzcXQGiR7Xw/NRdAEoPAyqFFF0DRItv5fmoXQC/dJAaBlRdA7FG4HoXrF0DTTWIQWDkYQDMzMzMzMxhAFa5H4XoUGEDiehSuR+EXQK5H4XoUrhdAIbByaJHtF0Ce76fGSzcYQDq0yHa+nxhAdZMYBFYOGUCQwvUoXI8ZQGU730+NlxlALbKd76fGGUADK4cW2c4ZQDiJQWDl0BlAw/UoXI/CGUDwp8ZLN4kZQPyp8dJNYhlA0SLb+X5qGUARWDm0yHYZQEa28/3UeBlATmIQWDm0GUDrUbgehesZQDVeukkMAhpAi2zn+6nxGUDLoUW28/0ZQHWTGARWDhpAK4cW2c73GUCLbOf7qfEZQNV46SYxCBpAHoXrUbgeGkBKDAIrhxYaQDVeukkMAhpAbef7qfHSGUD4U+Olm8QZQJqZmZmZmRlAehSuR+F6GUAxCKwcWmQZQJvEILByaBlAHFpkO99PGUDfT42XbhIZQOJ6FK5H4RhAQmDl0CLbGECHFtnO91MZQP2p8dJNYhpAMzMzMzMzHECjcD0K16MeQEJg5dAi2yBAo3A9CtcjIkBaZDvfT40jQLTIdr6fGiVAokW28/3UJUDNzMzMzMwlQFYOLbKd7yVAYOXQItt5JUDtfD81XjokQCYxCKwcWiNA1XjpJjEII0AK16NwPYoiQEJg5dAiWyJASzeJQWDlIkArhxbZzncjQBsv3SQGgSNAJzEIrBxaI0A=",
          "dtype": "f8"
         },
         "yaxis": "y"
        },
        {
         "line": {
          "color": "#EF553B",
          "width": 1.5
         },
         "mode": "lines",
         "name": "MA10",
         "opacity": 0.8,
         "type": "scatter",
         "x": [
          "2024-12-02T00:00:00.000000000",
          "2024-12-03T00:00:00.000000000",
          "2024-12-04T00:00:00.000000000",
          "2024-12-05T00:00:00.000000000",
          "2024-12-06T00:00:00.000000000",
          "2024-12-09T00:00:00.000000000",
          "2024-12-10T00:00:00.000000000",
          "2024-12-11T00:00:00.000000000",
          "2024-12-12T00:00:00.000000000",
          "2024-12-13T00:00:00.000000000",
          "2024-12-16T00:00:00.000000000",
          "2024-12-17T00:00:00.000000000",
          "2024-12-18T00:00:00.000000000",
          "2024-12-19T00:00:00.000000000",
          "2024-12-20T00:00:00.000000000",
          "2024-12-23T00:00:00.000000000",
          "2024-12-24T00:00:00.000000000",
          "2024-12-25T00:00:00.000000000",
          "2024-12-26T00:00:00.000000000",
          "2024-12-27T00:00:00.000000000",
          "2024-12-30T00:00:00.000000000",
          "2024-12-31T00:00:00.000000000",
          "2025-01-02T00:00:00.000000000",
          "2025-01-03T00:00:00.000000000",
          "2025-01-06T00:00:00.000000000",
          "2025-01-07T00:00:00.000000000",
          "2025-01-08T00:00:00.000000000",
          "2025-01-09T00:00:00.000000000",
          "2025-01-10T00:00:00.000000000",
          "2025-01-13T00:00:00.000000000",
          "2025-01-14T00:00:00.000000000",
          "2025-01-15T00:00:00.000000000",
          "2025-01-16T00:00:00.000000000",
          "2025-01-17T00:00:00.000000000",
          "2025-01-20T00:00:00.000000000",
          "2025-01-21T00:00:00.000000000",
          "2025-01-22T00:00:00.000000000",
          "2025-01-23T00:00:00.000000000",
          "2025-01-24T00:00:00.000000000",
          "2025-01-27T00:00:00.000000000",
          "2025-02-05T00:00:00.000000000",
          "2025-02-06T00:00:00.000000000",
          "2025-02-07T00:00:00.000000000",
          "2025-02-10T00:00:00.000000000",
          "2025-02-11T00:00:00.000000000",
          "2025-02-12T00:00:00.000000000",
          "2025-02-13T00:00:00.000000000",
          "2025-02-14T00:00:00.000000000",
          "2025-02-17T00:00:00.000000000",
          "2025-02-18T00:00:00.000000000",
          "2025-02-19T00:00:00.000000000",
          "2025-02-20T00:00:00.000000000",
          "2025-02-21T00:00:00.000000000",
          "2025-02-24T00:00:00.000000000",
          "2025-02-25T00:00:00.000000000",
          "2025-02-26T00:00:00.000000000",
          "2025-02-27T00:00:00.000000000",
          "2025-02-28T00:00:00.000000000",
          "2025-03-03T00:00:00.000000000",
          "2025-03-04T00:00:00.000000000",
          "2025-03-05T00:00:00.000000000",
          "2025-03-06T00:00:00.000000000",
          "2025-03-07T00:00:00.000000000",
          "2025-03-10T00:00:00.000000000",
          "2025-03-11T00:00:00.000000000",
          "2025-03-12T00:00:00.000000000",
          "2025-03-13T00:00:00.000000000",
          "2025-03-14T00:00:00.000000000",
          "2025-03-17T00:00:00.000000000",
          "2025-03-18T00:00:00.000000000",
          "2025-03-19T00:00:00.000000000",
          "2025-03-20T00:00:00.000000000",
          "2025-03-21T00:00:00.000000000",
          "2025-03-24T00:00:00.000000000",
          "2025-03-25T00:00:00.000000000",
          "2025-03-26T00:00:00.000000000",
          "2025-03-27T00:00:00.000000000",
          "2025-03-28T00:00:00.000000000",
          "2025-03-31T00:00:00.000000000",
          "2025-04-01T00:00:00.000000000",
          "2025-04-02T00:00:00.000000000",
          "2025-04-03T00:00:00.000000000",
          "2025-04-07T00:00:00.000000000",
          "2025-04-08T00:00:00.000000000",
          "2025-04-09T00:00:00.000000000",
          "2025-04-10T00:00:00.000000000",
          "2025-04-11T00:00:00.000000000",
          "2025-04-14T00:00:00.000000000",
          "2025-04-15T00:00:00.000000000",
          "2025-04-16T00:00:00.000000000",
          "2025-04-17T00:00:00.000000000",
          "2025-04-18T00:00:00.000000000",
          "2025-04-21T00:00:00.000000000",
          "2025-04-22T00:00:00.000000000",
          "2025-04-23T00:00:00.000000000",
          "2025-04-24T00:00:00.000000000",
          "2025-04-25T00:00:00.000000000"
         ],
         "xaxis": "x",
         "y": {
          "bdata": "1qNwPQpXHEAW2c73U2McQCYxCKwcWhxADQIrhxZZHEAAAAAAAIAcQJqZmZmZmRxAc2iR7Xy/HEAwCKwcWuQcQArXo3A9Ch1A3k+Nl24SHUAAAAAAAAAdQLKd76fGyxxARYts5/upHEDLoUW2830cQA0CK4cWWRxAxSCwcmgRHEBI4XoUrscbQOB6FK5HYRtAehSuR+H6GkCe76fGS7caQJvEILByaBpA8/3UeOkmGkAdWmQ7388ZQKscWmQ7XxlAnMQgsHLoGEC+nxov3aQYQAwCK4cWWRhAvp8aL90kGEBcj8L1KNwXQHWTGARWjhdA7FG4HoVrF0CS7Xw/NV4XQJzEILByaBdAxSCwcmiRF0Ce76fGS7cXQCPb+X5qvBdAcmiR7Xy/F0AIrBxaZLsXQM3MzMzMzBdA+n5qvHQTGEBoke18PzUYQCYxCKwcWhhAKocW2c53GEAfhetRuJ4YQML1KFyPwhhA5dAi2/n+GECe76fGSzcZQFYOLbKdbxlAKlyPwvWoGUCq8dJNYpAZQBWuR+F6lBlA6iYxCKycGUClcD0K16MZQAVWDi2ynRlAHoXrUbieGUDz/dR46aYZQIPAyqFFthlATmIQWDm0GUAIrBxaZLsZQOJ6FK5H4RlAi2zn+6nxGUBg5dAi2/kZQLByaJHt/BlAdZMYBFYOGkDeT42XbhIaQLByaJHt/BlA+6nx0k3iGUBmZmZmZuYZQF2PwvUo3BlAYhBYObTIGUAzMzMzM7MZQANWDi2ynRlACtejcD2KGUC8dJMYBFYZQK5H4XoULhlAOrTIdr4fGUCR7Xw/NV4ZQA0CK4cW2RlAikFg5dCiGkDC9Shcj8IbQGIQWDm0SB1A5vup8dLNHkCsHFpkO18gQCcxCKwcmiFA+n5qvHSTIkCHFtnO91MjQH0/NV66CSRA3SQGgZWDJEDRItv5fqokQGU730+NlyRA0SLb+X5qJECwcmiR7TwkQNEi2/l+6iNAHVpkO9+PI0AqXI/C9WgjQPhT46WbRCNAGQRWDi3yIkA=",
          "dtype": "f8"
         },
         "yaxis": "y"
        },
        {
         "line": {
          "color": "#00CC96",
          "width": 1.5
         },
         "mode": "lines",
         "name": "MA20",
         "opacity": 0.8,
         "type": "scatter",
         "x": [
          "2024-12-02T00:00:00.000000000",
          "2024-12-03T00:00:00.000000000",
          "2024-12-04T00:00:00.000000000",
          "2024-12-05T00:00:00.000000000",
          "2024-12-06T00:00:00.000000000",
          "2024-12-09T00:00:00.000000000",
          "2024-12-10T00:00:00.000000000",
          "2024-12-11T00:00:00.000000000",
          "2024-12-12T00:00:00.000000000",
          "2024-12-13T00:00:00.000000000",
          "2024-12-16T00:00:00.000000000",
          "2024-12-17T00:00:00.000000000",
          "2024-12-18T00:00:00.000000000",
          "2024-12-19T00:00:00.000000000",
          "2024-12-20T00:00:00.000000000",
          "2024-12-23T00:00:00.000000000",
          "2024-12-24T00:00:00.000000000",
          "2024-12-25T00:00:00.000000000",
          "2024-12-26T00:00:00.000000000",
          "2024-12-27T00:00:00.000000000",
          "2024-12-30T00:00:00.000000000",
          "2024-12-31T00:00:00.000000000",
          "2025-01-02T00:00:00.000000000",
          "2025-01-03T00:00:00.000000000",
          "2025-01-06T00:00:00.000000000",
          "2025-01-07T00:00:00.000000000",
          "2025-01-08T00:00:00.000000000",
          "2025-01-09T00:00:00.000000000",
          "2025-01-10T00:00:00.000000000",
          "2025-01-13T00:00:00.000000000",
          "2025-01-14T00:00:00.000000000",
          "2025-01-15T00:00:00.000000000",
          "2025-01-16T00:00:00.000000000",
          "2025-01-17T00:00:00.000000000",
          "2025-01-20T00:00:00.000000000",
          "2025-01-21T00:00:00.000000000",
          "2025-01-22T00:00:00.000000000",
          "2025-01-23T00:00:00.000000000",
          "2025-01-24T00:00:00.000000000",
          "2025-01-27T00:00:00.000000000",
          "2025-02-05T00:00:00.000000000",
          "2025-02-06T00:00:00.000000000",
          "2025-02-07T00:00:00.000000000",
          "2025-02-10T00:00:00.000000000",
          "2025-02-11T00:00:00.000000000",
          "2025-02-12T00:00:00.000000000",
          "2025-02-13T00:00:00.000000000",
          "2025-02-14T00:00:00.000000000",
          "2025-02-17T00:00:00.000000000",
          "2025-02-18T00:00:00.000000000",
          "2025-02-19T00:00:00.000000000",
          "2025-02-20T00:00:00.000000000",
          "2025-02-21T00:00:00.000000000",
          "2025-02-24T00:00:00.000000000",
          "2025-02-25T00:00:00.000000000",
          "2025-02-26T00:00:00.000000000",
          "2025-02-27T00:00:00.000000000",
          "2025-02-28T00:00:00.000000000",
          "2025-03-03T00:00:00.000000000",
          "2025-03-04T00:00:00.000000000",
          "2025-03-05T00:00:00.000000000",
          "2025-03-06T00:00:00.000000000",
          "2025-03-07T00:00:00.000000000",
          "2025-03-10T00:00:00.000000000",
          "2025-03-11T00:00:00.000000000",
          "2025-03-12T00:00:00.000000000",
          "2025-03-13T00:00:00.000000000",
          "2025-03-14T00:00:00.000000000",
          "2025-03-17T00:00:00.000000000",
          "2025-03-18T00:00:00.000000000",
          "2025-03-19T00:00:00.000000000",
          "2025-03-20T00:00:00.000000000",
          "2025-03-21T00:00:00.000000000",
          "2025-03-24T00:00:00.000000000",
          "2025-03-25T00:00:00.000000000",
          "2025-03-26T00:00:00.000000000",
          "2025-03-27T00:00:00.000000000",
          "2025-03-28T00:00:00.000000000",
          "2025-03-31T00:00:00.000000000",
          "2025-04-01T00:00:00.000000000",
          "2025-04-02T00:00:00.000000000",
          "2025-04-03T00:00:00.000000000",
          "2025-04-07T00:00:00.000000000",
          "2025-04-08T00:00:00.000000000",
          "2025-04-09T00:00:00.000000000",
          "2025-04-10T00:00:00.000000000",
          "2025-04-11T00:00:00.000000000",
          "2025-04-14T00:00:00.000000000",
          "2025-04-15T00:00:00.000000000",
          "2025-04-16T00:00:00.000000000",
          "2025-04-17T00:00:00.000000000",
          "2025-04-18T00:00:00.000000000",
          "2025-04-21T00:00:00.000000000",
          "2025-04-22T00:00:00.000000000",
          "2025-04-23T00:00:00.000000000",
          "2025-04-24T00:00:00.000000000",
          "2025-04-25T00:00:00.000000000"
         ],
         "xaxis": "x",
         "y": {
          "bdata": "CtejcD3KHUAAAAAAAMAdQJMYBFYOrR1AZTvfT42XHUDCyqFFtnMdQNrO91PjJR1Ag8DKoUX2HECr8dJNYtAcQMuhRbbzvRxAPd9PjZeuHEDrUbgehascQGU730+NlxxANV66SQyCHEDrUbgehWscQAWBlUOLbBxALt0kBoFVHEDdJAaBlUMcQIpBYOXQIhxAwvUoXI8CHEC+nxov3eQbQE5iEFg5tBtA001iEFh5G0CwcmiR7TwbQDvfT42X7hpAU+Olm8SgGkBCYOXQIlsaQKrx0k1iEBpAUI2XbhLDGUDsUbgehWsZQIpBYOXQIhlAQ4ts5/vpGEDC9Shcj8IYQFyPwvUonBhAuB6F61F4GEAdWmQ7308YQHA9CtejMBhAQDVeukkMGEDjpZvEIPAXQBWuR+F61BdAN4lBYOXQF0Cq8dJNYtAXQF2PwvUo3BdA5KWbxCDwF0Dy0k1iEBgYQLByaJHtPBhABFYOLbJdGEAIrBxaZHsYQC/dJAaBlRhAehSuR+G6GEBSuB6F69EYQL6fGi/d5BhACawcWmT7GEDn+6nx0g0ZQJLtfD81HhlAcT0K16MwGUBt5/up8VIZQBBYObTIdhlAUrgeheuRGUAYBFYOLbIZQEW28/3UuBlAUI2XbhLDGUAlBoGVQ8sZQKrx0k1i0BlAvXSTGATWGUB+arx0k9gZQFK4HoXr0RlAQDVeuknMGUBaZDvfT80ZQLOd76fGyxlAokW28/3UGUDgT42XbtIZQLKd76fGyxlA3SQGgZXDGUAYBFYOLbIZQMZLN4lBoBlAdZMYBFaOGUDGSzeJQaAZQDq0yHa+3xlAc2iR7Xw/GkASg8DKocUaQMqhRbbzfRtA9ihcj8I1HEAyCKwcWiQdQIXrUbgeRR5A0CLb+X4qH0CjcD0K1+MfQCPb+X5qXCBA8tJNYhC4IEDKoUW28/0gQCPb+X5qPCFAgZVDi2yHIUBSuB6F69EhQL6fGi/dJCJAokW28/2UIkCS7Xw/Nf4iQD81XrpJTCNAyqFFtvN9I0A=",
          "dtype": "f8"
         },
         "yaxis": "y"
        },
        {
         "marker": {
          "color": [
           "#E3342F",
           "#2CA453",
           "#2CA453",
           "#E3342F",
           "#E3342F",
           "#2CA453",
           "#2CA453",
           "#E3342F",
           "#E3342F",
           "#2CA453",
           "#2CA453",
           "#2CA453",
           "#2CA453",
           "#2CA453",
           "#E3342F",
           "#2CA453",
           "#2CA453",
           "#2CA453",
           "#E3342F",
           "#E3342F",
           "#2CA453",
           "#2CA453",
           "#2CA453",
           "#2CA453",
           "#E3342F",
           "#E3342F",
           "#2CA453",
           "#E3342F",
           "#2CA453",
           "#E3342F",
           "#E3342F",
           "#E3342F",
           "#E3342F",
           "#E3342F",
           "#2CA453",
           "#2CA453",
           "#2CA453",
           "#2CA453",
           "#E3342F",
           "#E3342F",
           "#2CA453",
           "#E3342F",
           "#E3342F",
           "#E3342F",
           "#2CA453",
           "#E3342F",
           "#2CA453",
           "#2CA453",
           "#E3342F",
           "#2CA453",
           "#E3342F",
           "#E3342F",
           "#E3342F",
           "#E3342F",
           "#E3342F",
           "#E3342F",
           "#2CA453",
           "#2CA453",
           "#E3342F",
           "#E3342F",
           "#2CA453",
           "#2CA453",
           "#2CA453",
           "#E3342F",
           "#E3342F",
           "#2CA453",
           "#2CA453",
           "#E3342F",
           "#2CA453",
           "#2CA453",
           "#2CA453",
           "#E3342F",
           "#2CA453",
           "#2CA453",
           "#E3342F",
           "#E3342F",
           "#E3342F",
           "#2CA453",
           "#2CA453",
           "#E3342F",
           "#2CA453",
           "#E3342F",
           "#E3342F",
           "#E3342F",
           "#2CA453",
           "#E3342F",
           "#E3342F",
           "#2CA453",
           "#2CA453",
           "#2CA453",
           "#E3342F",
           "#E3342F",
           "#E3342F",
           "#E3342F",
           "#2CA453",
           "#2CA453",
           "#2CA453"
          ]
         },
         "name": "成交量(手)",
         "opacity": 0.7,
         "type": "bar",
         "x": [
          "2024-12-02T00:00:00.000000000",
          "2024-12-03T00:00:00.000000000",
          "2024-12-04T00:00:00.000000000",
          "2024-12-05T00:00:00.000000000",
          "2024-12-06T00:00:00.000000000",
          "2024-12-09T00:00:00.000000000",
          "2024-12-10T00:00:00.000000000",
          "2024-12-11T00:00:00.000000000",
          "2024-12-12T00:00:00.000000000",
          "2024-12-13T00:00:00.000000000",
          "2024-12-16T00:00:00.000000000",
          "2024-12-17T00:00:00.000000000",
          "2024-12-18T00:00:00.000000000",
          "2024-12-19T00:00:00.000000000",
          "2024-12-20T00:00:00.000000000",
          "2024-12-23T00:00:00.000000000",
          "2024-12-24T00:00:00.000000000",
          "2024-12-25T00:00:00.000000000",
          "2024-12-26T00:00:00.000000000",
          "2024-12-27T00:00:00.000000000",
          "2024-12-30T00:00:00.000000000",
          "2024-12-31T00:00:00.000000000",
          "2025-01-02T00:00:00.000000000",
          "2025-01-03T00:00:00.000000000",
          "2025-01-06T00:00:00.000000000",
          "2025-01-07T00:00:00.000000000",
          "2025-01-08T00:00:00.000000000",
          "2025-01-09T00:00:00.000000000",
          "2025-01-10T00:00:00.000000000",
          "2025-01-13T00:00:00.000000000",
          "2025-01-14T00:00:00.000000000",
          "2025-01-15T00:00:00.000000000",
          "2025-01-16T00:00:00.000000000",
          "2025-01-17T00:00:00.000000000",
          "2025-01-20T00:00:00.000000000",
          "2025-01-21T00:00:00.000000000",
          "2025-01-22T00:00:00.000000000",
          "2025-01-23T00:00:00.000000000",
          "2025-01-24T00:00:00.000000000",
          "2025-01-27T00:00:00.000000000",
          "2025-02-05T00:00:00.000000000",
          "2025-02-06T00:00:00.000000000",
          "2025-02-07T00:00:00.000000000",
          "2025-02-10T00:00:00.000000000",
          "2025-02-11T00:00:00.000000000",
          "2025-02-12T00:00:00.000000000",
          "2025-02-13T00:00:00.000000000",
          "2025-02-14T00:00:00.000000000",
          "2025-02-17T00:00:00.000000000",
          "2025-02-18T00:00:00.000000000",
          "2025-02-19T00:00:00.000000000",
          "2025-02-20T00:00:00.000000000",
          "2025-02-21T00:00:00.000000000",
          "2025-02-24T00:00:00.000000000",
          "2025-02-25T00:00:00.000000000",
          "2025-02-26T00:00:00.000000000",
          "2025-02-27T00:00:00.000000000",
          "2025-02-28T00:00:00.000000000",
          "2025-03-03T00:00:00.000000000",
          "2025-03-04T00:00:00.000000000",
          "2025-03-05T00:00:00.000000000",
          "2025-03-06T00:00:00.000000000",
          "2025-03-07T00:00:00.000000000",
          "2025-03-10T00:00:00.000000000",
          "2025-03-11T00:00:00.000000000",
          "2025-03-12T00:00:00.000000000",
          "2025-03-13T00:00:00.000000000",
          "2025-03-14T00:00:00.000000000",
          "2025-03-17T00:00:00.000000000",
          "2025-03-18T00:00:00.000000000",
          "2025-03-19T00:00:00.000000000",
          "2025-03-20T00:00:00.000000000",
          "2025-03-21T00:00:00.000000000",
          "2025-03-24T00:00:00.000000000",
          "2025-03-25T00:00:00.000000000",
          "2025-03-26T00:00:00.000000000",
          "2025-03-27T00:00:00.000000000",
          "2025-03-28T00:00:00.000000000",
          "2025-03-31T00:00:00.000000000",
          "2025-04-01T00:00:00.000000000",
          "2025-04-02T00:00:00.000000000",
          "2025-04-03T00:00:00.000000000",
          "2025-04-07T00:00:00.000000000",
          "2025-04-08T00:00:00.000000000",
          "2025-04-09T00:00:00.000000000",
          "2025-04-10T00:00:00.000000000",
          "2025-04-11T00:00:00.000000000",
          "2025-04-14T00:00:00.000000000",
          "2025-04-15T00:00:00.000000000",
          "2025-04-16T00:00:00.000000000",
          "2025-04-17T00:00:00.000000000",
          "2025-04-18T00:00:00.000000000",
          "2025-04-21T00:00:00.000000000",
          "2025-04-22T00:00:00.000000000",
          "2025-04-23T00:00:00.000000000",
          "2025-04-24T00:00:00.000000000",
          "2025-04-25T00:00:00.000000000"
         ],
         "xaxis": "x2",
         "y": {
          "bdata": "hetRuM5l/kA9CtejEKsAQYXrUbguKQJBAAAAAGAb+kAAAAAAoD37QOxRuB7ZLvtA4XoUrktaAEEAAAAAUEP6QIXrUbhWQ/5AzczMzMweA0HsUbgeeZj5QAAAAABorABBrkfherxr90D2KFyPklPzQD0K16N80fVAMzMzM9P4+UAzMzMzA1DyQFyPwvU4U/FAj8L1KPQg5EDNzMzMvKjuQAAAAADQt/BAUrgehc8W9EB7FK5HsT/1QKRwPQp7FvlAzczMzHwl9UAAAAAABPnwQAAAAAB82fNAAAAAADAv8EAAAAAAYIDqQAAAAABQavBAAAAAAPBL8EAAAAAAIDrvQAAAAACgvfFAAAAAAECX80AUrkfhehzvQHsUrkdRa/lAMzMzM6PV6UAzMzMzs7fwQAAAAAAQpOpAAAAAAEBl+0BSuB6FCQkUQSlcj8K97QlB9ihcjwjCCEE9CtejJEUIQSlcj8I3igBBexSuR7f7BEEAAAAAsLEAQQAAAACgNPVA4XoUrkuo9kAAAAAA4MTzQM3MzMxEy/JAw/UoXB+s90AAAAAA2KH3QAAAAABA9/RApHA9CnXZAEEzMzMzIzkCQcP1KFy3LflAAAAAAKAw9EBxPQrXo270QNejcD0SU/RAPQrXowh38kAAAAAAIIf0QFK4HoXjfvFAZmZmZvay/UAzMzMz4y71QAAAAACwEvpAAAAAAJB790BSuB6FkzPzQArXo3DtuexAzczMzIzO9kAAAAAAoErrQAAAAAAgMeVAPQrXo6iA9EAAAAAA4Jj6QAAAAAAgau5AAAAAAMB98kAAAAAA9oQQQQAAAABq6gBBH4XrUcSFDUFmZmZmIqU3QfYoXE/6cUBBw/UoPDdzQUFmZmYmzQxBQWZmZiYvtkBBSOF6FPcJPkEzMzPzIXU8QTMzM/OMDDxBhetR+KajNUHD9SicF/01QXE9Cpc9DjFBAAAAwDMCM0EAAABAT3AyQeF6FK4sji9BPQrXo/WHM0FI4XqUw4s8Qa5H4bq1/TVBFK5H4fTfL0E=",
          "dtype": "f8"
         },
         "yaxis": "y3"
        }
       ],
       "layout": {
        "dragmode": "pan",
        "hovermode": "x unified",
        "legend": {
         "orientation": "h",
         "x": 1,
         "xanchor": "right",
         "y": 1.02,
         "yanchor": "bottom"
        },
        "margin": {
         "b": 20,
         "l": 40,
         "r": 40,
         "t": 40
        },
        "template": {
         "data": {
          "bar": [
           {
            "error_x": {
             "color": "#2a3f5f"
            },
            "error_y": {
             "color": "#2a3f5f"
            },
            "marker": {
             "line": {
              "color": "white",
              "width": 0.5
             },
             "pattern": {
              "fillmode": "overlay",
              "size": 10,
              "solidity": 0.2
             }
            },
            "type": "bar"
           }
          ],
          "barpolar": [
           {
            "marker": {
             "line": {
              "color": "white",
              "width": 0.5
             },
             "pattern": {
              "fillmode": "overlay",
              "size": 10,
              "solidity": 0.2
             }
            },
            "type": "barpolar"
           }
          ],
          "carpet": [
           {
            "aaxis": {
             "endlinecolor": "#2a3f5f",
             "gridcolor": "#C8D4E3",
             "linecolor": "#C8D4E3",
             "minorgridcolor": "#C8D4E3",
             "startlinecolor": "#2a3f5f"
            },
            "baxis": {
             "endlinecolor": "#2a3f5f",
             "gridcolor": "#C8D4E3",
             "linecolor": "#C8D4E3",
             "minorgridcolor": "#C8D4E3",
             "startlinecolor": "#2a3f5f"
            },
            "type": "carpet"
           }
          ],
          "choropleth": [
           {
            "colorbar": {
             "outlinewidth": 0,
             "ticks": ""
            },
            "type": "choropleth"
           }
          ],
          "contour": [
           {
            "colorbar": {
             "outlinewidth": 0,
             "ticks": ""
            },
            "colorscale": [
             [
              0,
              "#0d0887"
             ],
             [
              0.1111111111111111,
              "#46039f"
             ],
             [
              0.2222222222222222,
              "#7201a8"
             ],
             [
              0.3333333333333333,
              "#9c179e"
             ],
             [
              0.4444444444444444,
              "#bd3786"
             ],
             [
              0.5555555555555556,
              "#d8576b"
             ],
             [
              0.6666666666666666,
              "#ed7953"
             ],
             [
              0.7777777777777778,
              "#fb9f3a"
             ],
             [
              0.8888888888888888,
              "#fdca26"
             ],
             [
              1,
              "#f0f921"
             ]
            ],
            "type": "contour"
           }
          ],
          "contourcarpet": [
           {
            "colorbar": {
             "outlinewidth": 0,
             "ticks": ""
            },
            "type": "contourcarpet"
           }
          ],
          "heatmap": [
           {
            "colorbar": {
             "outlinewidth": 0,
             "ticks": ""
            },
            "colorscale": [
             [
              0,
              "#0d0887"
             ],
             [
              0.1111111111111111,
              "#46039f"
             ],
             [
              0.2222222222222222,
              "#7201a8"
             ],
             [
              0.3333333333333333,
              "#9c179e"
             ],
             [
              0.4444444444444444,
              "#bd3786"
             ],
             [
              0.5555555555555556,
              "#d8576b"
             ],
             [
              0.6666666666666666,
              "#ed7953"
             ],
             [
              0.7777777777777778,
              "#fb9f3a"
             ],
             [
              0.8888888888888888,
              "#fdca26"
             ],
             [
              1,
              "#f0f921"
             ]
            ],
            "type": "heatmap"
           }
          ],
          "histogram": [
           {
            "marker": {
             "pattern": {
              "fillmode": "overlay",
              "size": 10,
              "solidity": 0.2
             }
            },
            "type": "histogram"
           }
          ],
          "histogram2d": [
           {
            "colorbar": {
             "outlinewidth": 0,
             "ticks": ""
            },
            "colorscale": [
             [
              0,
              "#0d0887"
             ],
             [
              0.1111111111111111,
              "#46039f"
             ],
             [
              0.2222222222222222,
              "#7201a8"
             ],
             [
              0.3333333333333333,
              "#9c179e"
             ],
             [
              0.4444444444444444,
              "#bd3786"
             ],
             [
              0.5555555555555556,
              "#d8576b"
             ],
             [
              0.6666666666666666,
              "#ed7953"
             ],
             [
              0.7777777777777778,
              "#fb9f3a"
             ],
             [
              0.8888888888888888,
              "#fdca26"
             ],
             [
              1,
              "#f0f921"
             ]
            ],
            "type": "histogram2d"
           }
          ],
          "histogram2dcontour": [
           {
            "colorbar": {
             "outlinewidth": 0,
             "ticks": ""
            },
            "colorscale": [
             [
              0,
              "#0d0887"
             ],
             [
              0.1111111111111111,
              "#46039f"
             ],
             [
              0.2222222222222222,
              "#7201a8"
             ],
             [
              0.3333333333333333,
              "#9c179e"
             ],
             [
              0.4444444444444444,
              "#bd3786"
             ],
             [
              0.5555555555555556,
              "#d8576b"
             ],
             [
              0.6666666666666666,
              "#ed7953"
             ],
             [
              0.7777777777777778,
              "#fb9f3a"
             ],
             [
              0.8888888888888888,
              "#fdca26"
             ],
             [
              1,
              "#f0f921"
             ]
            ],
            "type": "histogram2dcontour"
           }
          ],
          "mesh3d": [
           {
            "colorbar": {
             "outlinewidth": 0,
             "ticks": ""
            },
            "type": "mesh3d"
           }
          ],
          "parcoords": [
           {
            "line": {
             "colorbar": {
              "outlinewidth": 0,
              "ticks": ""
             }
            },
            "type": "parcoords"
           }
          ],
          "pie": [
           {
            "automargin": true,
            "type": "pie"
           }
          ],
          "scatter": [
           {
            "fillpattern": {
             "fillmode": "overlay",
             "size": 10,
             "solidity": 0.2
            },
            "type": "scatter"
           }
          ],
          "scatter3d": [
           {
            "line": {
             "colorbar": {
              "outlinewidth": 0,
              "ticks": ""
             }
            },
            "marker": {
             "colorbar": {
              "outlinewidth": 0,
              "ticks": ""
             }
            },
            "type": "scatter3d"
           }
          ],
          "scattercarpet": [
           {
            "marker": {
             "colorbar": {
              "outlinewidth": 0,
              "ticks": ""
             }
            },
            "type": "scattercarpet"
           }
          ],
          "scattergeo": [
           {
            "marker": {
             "colorbar": {
              "outlinewidth": 0,
              "ticks": ""
             }
            },
            "type": "scattergeo"
           }
          ],
          "scattergl": [
           {
            "marker": {
             "colorbar": {
              "outlinewidth": 0,
              "ticks": ""
             }
            },
            "type": "scattergl"
           }
          ],
          "scattermap": [
           {
            "marker": {
             "colorbar": {
              "outlinewidth": 0,
              "ticks": ""
             }
            },
            "type": "scattermap"
           }
          ],
          "scattermapbox": [
           {
            "marker": {
             "colorbar": {
              "outlinewidth": 0,
              "ticks": ""
             }
            },
            "type": "scattermapbox"
           }
          ],
          "scatterpolar": [
           {
            "marker": {
             "colorbar": {
              "outlinewidth": 0,
              "ticks": ""
             }
            },
            "type": "scatterpolar"
           }
          ],
          "scatterpolargl": [
           {
            "marker": {
             "colorbar": {
              "outlinewidth": 0,
              "ticks": ""
             }
            },
            "type": "scatterpolargl"
           }
          ],
          "scatterternary": [
           {
            "marker": {
             "colorbar": {
              "outlinewidth": 0,
              "ticks": ""
             }
            },
            "type": "scatterternary"
           }
          ],
          "surface": [
           {
            "colorbar": {
             "outlinewidth": 0,
             "ticks": ""
            },
            "colorscale": [
             [
              0,
              "#0d0887"
             ],
             [
              0.1111111111111111,
              "#46039f"
             ],
             [
              0.2222222222222222,
              "#7201a8"
             ],
             [
              0.3333333333333333,
              "#9c179e"
             ],
             [
              0.4444444444444444,
              "#bd3786"
             ],
             [
              0.5555555555555556,
              "#d8576b"
             ],
             [
              0.6666666666666666,
              "#ed7953"
             ],
             [
              0.7777777777777778,
              "#fb9f3a"
             ],
             [
              0.8888888888888888,
              "#fdca26"
             ],
             [
              1,
              "#f0f921"
             ]
            ],
            "type": "surface"
           }
          ],
          "table": [
           {
            "cells": {
             "fill": {
              "color": "#EBF0F8"
             },
             "line": {
              "color": "white"
             }
            },
            "header": {
             "fill": {
              "color": "#C8D4E3"
             },
             "line": {
              "color": "white"
             }
            },
            "type": "table"
           }
          ]
         },
         "layout": {
          "annotationdefaults": {
           "arrowcolor": "#2a3f5f",
           "arrowhead": 0,
           "arrowwidth": 1
          },
          "autotypenumbers": "strict",
          "coloraxis": {
           "colorbar": {
            "outlinewidth": 0,
            "ticks": ""
           }
          },
          "colorscale": {
           "diverging": [
            [
             0,
             "#8e0152"
            ],
            [
             0.1,
             "#c51b7d"
            ],
            [
             0.2,
             "#de77ae"
            ],
            [
             0.3,
             "#f1b6da"
            ],
            [
             0.4,
             "#fde0ef"
            ],
            [
             0.5,
             "#f7f7f7"
            ],
            [
             0.6,
             "#e6f5d0"
            ],
            [
             0.7,
             "#b8e186"
            ],
            [
             0.8,
             "#7fbc41"
            ],
            [
             0.9,
             "#4d9221"
            ],
            [
             1,
             "#276419"
            ]
           ],
           "sequential": [
            [
             0,
             "#0d0887"
            ],
            [
             0.1111111111111111,
             "#46039f"
            ],
            [
             0.2222222222222222,
             "#7201a8"
            ],
            [
             0.3333333333333333,
             "#9c179e"
            ],
            [
             0.4444444444444444,
             "#bd3786"
            ],
            [
             0.5555555555555556,
             "#d8576b"
            ],
            [
             0.6666666666666666,
             "#ed7953"
            ],
            [
             0.7777777777777778,
             "#fb9f3a"
            ],
            [
             0.8888888888888888,
             "#fdca26"
            ],
            [
             1,
             "#f0f921"
            ]
           ],
           "sequentialminus": [
            [
             0,
             "#0d0887"
            ],
            [
             0.1111111111111111,
             "#46039f"
            ],
            [
             0.2222222222222222,
             "#7201a8"
            ],
            [
             0.3333333333333333,
             "#9c179e"
            ],
            [
             0.4444444444444444,
             "#bd3786"
            ],
            [
             0.5555555555555556,
             "#d8576b"
            ],
            [
             0.6666666666666666,
             "#ed7953"
            ],
            [
             0.7777777777777778,
             "#fb9f3a"
            ],
            [
             0.8888888888888888,
             "#fdca26"
            ],
            [
             1,
             "#f0f921"
            ]
           ]
          },
          "colorway": [
           "#636efa",
           "#EF553B",
           "#00cc96",
           "#ab63fa",
           "#FFA15A",
           "#19d3f3",
           "#FF6692",
           "#B6E880",
           "#FF97FF",
           "#FECB52"
          ],
          "font": {
           "color": "#2a3f5f"
          },
          "geo": {
           "bgcolor": "white",
           "lakecolor": "white",
           "landcolor": "white",
           "showlakes": true,
           "showland": true,
           "subunitcolor": "#C8D4E3"
          },
          "hoverlabel": {
           "align": "left"
          },
          "hovermode": "closest",
          "mapbox": {
           "style": "light"
          },
          "paper_bgcolor": "white",
          "plot_bgcolor": "white",
          "polar": {
           "angularaxis": {
            "gridcolor": "#EBF0F8",
            "linecolor": "#EBF0F8",
            "ticks": ""
           },
           "bgcolor": "white",
           "radialaxis": {
            "gridcolor": "#EBF0F8",
            "linecolor": "#EBF0F8",
            "ticks": ""
           }
          },
          "scene": {
           "xaxis": {
            "backgroundcolor": "white",
            "gridcolor": "#DFE8F3",
            "gridwidth": 2,
            "linecolor": "#EBF0F8",
            "showbackground": true,
            "ticks": "",
            "zerolinecolor": "#EBF0F8"
           },
           "yaxis": {
            "backgroundcolor": "white",
            "gridcolor": "#DFE8F3",
            "gridwidth": 2,
            "linecolor": "#EBF0F8",
            "showbackground": true,
            "ticks": "",
            "zerolinecolor": "#EBF0F8"
           },
           "zaxis": {
            "backgroundcolor": "white",
            "gridcolor": "#DFE8F3",
            "gridwidth": 2,
            "linecolor": "#EBF0F8",
            "showbackground": true,
            "ticks": "",
            "zerolinecolor": "#EBF0F8"
           }
          },
          "shapedefaults": {
           "line": {
            "color": "#2a3f5f"
           }
          },
          "ternary": {
           "aaxis": {
            "gridcolor": "#DFE8F3",
            "linecolor": "#A2B1C6",
            "ticks": ""
           },
           "baxis": {
            "gridcolor": "#DFE8F3",
            "linecolor": "#A2B1C6",
            "ticks": ""
           },
           "bgcolor": "white",
           "caxis": {
            "gridcolor": "#DFE8F3",
            "linecolor": "#A2B1C6",
            "ticks": ""
           }
          },
          "title": {
           "x": 0.05
          },
          "xaxis": {
           "automargin": true,
           "gridcolor": "#EBF0F8",
           "linecolor": "#EBF0F8",
           "ticks": "",
           "title": {
            "standoff": 15
           },
           "zerolinecolor": "#EBF0F8",
           "zerolinewidth": 2
          },
          "yaxis": {
           "automargin": true,
           "gridcolor": "#EBF0F8",
           "linecolor": "#EBF0F8",
           "ticks": "",
           "title": {
            "standoff": 15
           },
           "zerolinecolor": "#EBF0F8",
           "zerolinewidth": 2
          }
         }
        },
        "title": {
         "font": {
          "size": 20
         },
         "text": "凯美特气",
         "x": 0.5
        },
        "xaxis": {
         "anchor": "y",
         "domain": [
          0,
          0.94
         ],
         "gridcolor": "rgba(200, 200, 200, 0.2)",
         "matches": "x2",
         "rangebreaks": [
          {
           "values": [
            "2024-12-07T00:00:00",
            "2024-12-08T00:00:00",
            "2024-12-14T00:00:00",
            "2024-12-15T00:00:00",
            "2024-12-21T00:00:00",
            "2024-12-22T00:00:00",
            "2024-12-28T00:00:00",
            "2024-12-29T00:00:00",
            "2025-01-01T00:00:00",
            "2025-01-04T00:00:00",
            "2025-01-05T00:00:00",
            "2025-01-11T00:00:00",
            "2025-01-12T00:00:00",
            "2025-01-18T00:00:00",
            "2025-01-19T00:00:00",
            "2025-01-25T00:00:00",
            "2025-01-26T00:00:00",
            "2025-01-28T00:00:00",
            "2025-01-29T00:00:00",
            "2025-01-30T00:00:00",
            "2025-01-31T00:00:00",
            "2025-02-01T00:00:00",
            "2025-02-02T00:00:00",
            "2025-02-03T00:00:00",
            "2025-02-04T00:00:00",
            "2025-02-08T00:00:00",
            "2025-02-09T00:00:00",
            "2025-02-15T00:00:00",
            "2025-02-16T00:00:00",
            "2025-02-22T00:00:00",
            "2025-02-23T00:00:00",
            "2025-03-01T00:00:00",
            "2025-03-02T00:00:00",
            "2025-03-08T00:00:00",
            "2025-03-09T00:00:00",
            "2025-03-15T00:00:00",
            "2025-03-16T00:00:00",
            "2025-03-22T00:00:00",
            "2025-03-23T00:00:00",
            "2025-03-29T00:00:00",
            "2025-03-30T00:00:00",
            "2025-04-04T00:00:00",
            "2025-04-05T00:00:00",
            "2025-04-06T00:00:00",
            "2025-04-12T00:00:00",
            "2025-04-13T00:00:00",
            "2025-04-19T00:00:00",
            "2025-04-20T00:00:00"
           ]
          }
         ],
         "rangeselector": {
          "buttons": [
           {
            "count": 1,
            "label": "1M",
            "step": "month",
            "stepmode": "backward"
           },
           {
            "count": 6,
            "label": "6M",
            "step": "month",
            "stepmode": "backward"
           },
           {
            "count": 1,
            "label": "1Y",
            "step": "year",
            "stepmode": "backward"
           },
           {
            "count": 1,
            "label": "YTD",
            "step": "year",
            "stepmode": "todate"
           },
           {
            "step": "all"
           }
          ]
         },
         "rangeslider": {
          "visible": false
         },
         "showticklabels": false,
         "title": {
          "text": "日期"
         },
         "type": "date"
        },
        "xaxis2": {
         "anchor": "y3",
         "domain": [
          0,
          0.94
         ],
         "rangebreaks": [
          {
           "values": [
            "2024-12-07T00:00:00",
            "2024-12-08T00:00:00",
            "2024-12-14T00:00:00",
            "2024-12-15T00:00:00",
            "2024-12-21T00:00:00",
            "2024-12-22T00:00:00",
            "2024-12-28T00:00:00",
            "2024-12-29T00:00:00",
            "2025-01-01T00:00:00",
            "2025-01-04T00:00:00",
            "2025-01-05T00:00:00",
            "2025-01-11T00:00:00",
            "2025-01-12T00:00:00",
            "2025-01-18T00:00:00",
            "2025-01-19T00:00:00",
            "2025-01-25T00:00:00",
            "2025-01-26T00:00:00",
            "2025-01-28T00:00:00",
            "2025-01-29T00:00:00",
            "2025-01-30T00:00:00",
            "2025-01-31T00:00:00",
            "2025-02-01T00:00:00",
            "2025-02-02T00:00:00",
            "2025-02-03T00:00:00",
            "2025-02-04T00:00:00",
            "2025-02-08T00:00:00",
            "2025-02-09T00:00:00",
            "2025-02-15T00:00:00",
            "2025-02-16T00:00:00",
            "2025-02-22T00:00:00",
            "2025-02-23T00:00:00",
            "2025-03-01T00:00:00",
            "2025-03-02T00:00:00",
            "2025-03-08T00:00:00",
            "2025-03-09T00:00:00",
            "2025-03-15T00:00:00",
            "2025-03-16T00:00:00",
            "2025-03-22T00:00:00",
            "2025-03-23T00:00:00",
            "2025-03-29T00:00:00",
            "2025-03-30T00:00:00",
            "2025-04-04T00:00:00",
            "2025-04-05T00:00:00",
            "2025-04-06T00:00:00",
            "2025-04-12T00:00:00",
            "2025-04-13T00:00:00",
            "2025-04-19T00:00:00",
            "2025-04-20T00:00:00"
           ]
          }
         ],
         "rangeselector": {
          "buttons": [
           {
            "count": 1,
            "label": "1M",
            "step": "month",
            "stepmode": "backward"
           },
           {
            "count": 6,
            "label": "6M",
            "step": "month",
            "stepmode": "backward"
           },
           {
            "count": 1,
            "label": "1Y",
            "step": "year",
            "stepmode": "backward"
           },
           {
            "count": 1,
            "label": "YTD",
            "step": "year",
            "stepmode": "todate"
           },
           {
            "step": "all"
           }
          ]
         },
         "rangeslider": {
          "visible": true
         },
         "title": {
          "text": "日期"
         }
        },
        "yaxis": {
         "anchor": "x",
         "domain": [
          0.33499999999999996,
          0.9999999999999999
         ],
         "fixedrange": true,
         "title": {
          "text": "股价"
         }
        },
        "yaxis2": {
         "anchor": "x",
         "fixedrange": true,
         "overlaying": "y",
         "side": "right",
         "title": {
          "text": "股价"
         }
        },
        "yaxis3": {
         "anchor": "x2",
         "domain": [
          0,
          0.285
         ],
         "fixedrange": true,
         "title": {
          "text": "成交量(手)"
         }
        }
       }
      }
     },
     "metadata": {},
     "output_type": "display_data"
    }
   ],
   "source": [
    "plot_candle(daily=df)"
   ]
  },
  {
   "cell_type": "code",
   "execution_count": 88,
   "id": "69208068",
   "metadata": {},
   "outputs": [
    {
     "data": {
      "application/vnd.plotly.v1+json": {
       "config": {
        "plotlyServerURL": "https://plot.ly"
       },
       "data": [
        {
         "close": {
          "bdata": "KVyPwvUoFkC4HoXrUbgXQBSuR+F6FBpAH4XrUbgeGEB7FK5H4XoWQOxRuB6F6xVAH4XrUbgeGEA9CtejcD0ZQMP1KFyPwhtAmpmZmZmZHECPwvUoXI8eQIXrUbgehRtAexSuR+F6G0AK16NwPQoZQOF6FK5H4RhAw/UoXI/CF0BxPQrXo3AYQLgehetRuBlAPQrXo3A9G0CPwvUoXI8bQAAAAAAAABtAXI/C9ShcGUAzMzMzMzMbQHsUrkfhehhA16NwPQrXF0DhehSuR+EXQMP1KFyPwhdAj8L1KFyPF0DNzMzMzMwVQJqZmZmZmRZAw/UoXI/CF0C4HoXrUbgWQDMzMzMzMxdAKVyPwvUoFkCPwvUoXI8WQClcj8L1KBdAhetRuB6FF0DNzMzMzMwXQHsUrkfhehdA16NwPQrXFUDNzMzMzMwUQB+F61G4HhVAcT0K16NwFUBI4XoUrkcWQJqZmZmZmRVAPQrXo3A9FkBmZmZmZmYWQMP1KFyPwhVAH4XrUbgeFkDXo3A9CtcUQOxRuB6F6xRAj8L1KFyPFUAfhetRuB4VQNejcD0K1xRApHA9CtejFEB7FK5H4XoUQB+F61G4HhVAUrgehetRFUCF61G4HoUUQOF6FK5H4RNA9ihcj8L1E0AUrkfhehQUQAAAAAAAABRA4XoUrkfhE0CamZmZmZkTQD0K16NwPRNAmpmZmZmZEkC4HoXrUbgTQAAAAAAAABRAmpmZmZmZFUDhehSuR+EUQFK4HoXrURRAXI/C9ShcE0AK16NwPQoTQM3MzMzMzBJAzczMzMzMEkBmZmZmZmYSQArXo3A9ChJAKVyPwvUoE0B7FK5H4XoSQI/C9ShcjxJAZmZmZmZmFEC4HoXrUbgUQM3MzMzMzBZAKVyPwvUoGEDsUbgehesYQB+F61G4HhhAuB6F61G4F0CamZmZmZkXQAAAAAAAABhAPQrXo3A9F0ApXI/C9SgWQClcj8L1KBZA7FG4HoXrFUDXo3A9CtcVQHsUrkfhehZAw/UoXI/CFUA=",
          "dtype": "f8"
         },
         "decreasing": {
          "fillcolor": "rgba(44, 164, 83, 0.7)",
          "line": {
           "color": "#2CA453"
          }
         },
         "high": {
          "bdata": "KVyPwvUoFkBcj8L1KFwYQBSuR+F6FBpAMzMzMzMzGkCF61G4HoUXQDMzMzMzMxdAH4XrUbgeGEAAAAAAAAAaQMP1KFyPwhtAexSuR+F6HkB7FK5H4XofQGZmZmZmZh1AhetRuB6FG0BmZmZmZmYaQAAAAAAAABpAUrgehetRGUApXI/C9SgZQI/C9ShcjxpAAAAAAAAAHEAAAAAAAAAdQNejcD0K1xtAzczMzMzMG0DhehSuR+EbQGZmZmZmZhpAj8L1KFyPGUAzMzMzMzMYQFyPwvUoXBhAH4XrUbgeGECF61G4HoUXQAAAAAAAABdAAAAAAAAAGED2KFyPwvUXQM3MzMzMzBdAAAAAAAAAF0ApXI/C9SgXQIXrUbgehRdAAAAAAAAAGEBI4XoUrkcYQOF6FK5H4RdAZmZmZmZmF0C4HoXrUbgVQFK4HoXrURVA7FG4HoXrFUCF61G4HoUWQHsUrkfhehZAPQrXo3A9FkDsUbgehesWQGZmZmZmZhZAhetRuB6FFkDsUbgehesVQBSuR+F6FBVAzczMzMzMFUCPwvUoXI8VQEjhehSuRxVAMzMzMzMzFUDsUbgehesUQKRwPQrXoxVA9ihcj8L1FUBmZmZmZmYVQEjhehSuRxRAZmZmZmZmFEBI4XoUrkcUQEjhehSuRxRAKVyPwvUoFECuR+F6FK4TQMP1KFyPwhNAPQrXo3A9E0DXo3A9CtcTQM3MzMzMzBRAAAAAAAAAFkDNzMzMzMwVQGZmZmZmZhVAPQrXo3A9FEB7FK5H4XoTQFK4HoXrURNA9ihcj8L1EkDhehSuR+ESQFyPwvUoXBJAhetRuB6FE0AfhetRuB4TQK5H4XoUrhJAZmZmZmZmFECuR+F6FK4VQM3MzMzMzBZAFK5H4XoUGUBSuB6F61EaQFyPwvUoXBlAAAAAAAAAGUBmZmZmZmYYQD0K16NwPRhAUrgehetRGEAAAAAAAAAXQI/C9ShcjxZAUrgehetRFkAzMzMzMzMWQKRwPQrXoxZAZmZmZmZmFkA=",
          "dtype": "f8"
         },
         "increasing": {
          "fillcolor": "rgba(227, 52, 47, 0.7)",
          "line": {
           "color": "#E3342F"
          }
         },
         "line": {
          "width": 1
         },
         "low": {
          "bdata": "AAAAAAAAFUBmZmZmZmYWQFyPwvUoXBVArkfhehSuF0BSuB6F61EWQLgehetRuBVAH4XrUbgeGEBSuB6F61EXQGZmZmZmZhhApHA9CtejGkCPwvUoXI8bQIXrUbgehRtAw/UoXI/CGEDNzMzMzMwYQM3MzMzMzBhApHA9CtejF0DsUbgehesWQEjhehSuRxdA7FG4HoXrGEBSuB6F61EaQHsUrkfhehpApHA9CtejGECuR+F6FK4YQHsUrkfhehhAcT0K16NwFkDD9Shcj8IWQPYoXI/C9RZAPQrXo3A9F0DD9Shcj8IVQArXo3A9ChVASOF6FK5HFkCamZmZmZkWQHE9CtejcBZA7FG4HoXrFUBmZmZmZmYWQBSuR+F6FBZA16NwPQrXFkA9CtejcD0XQI/C9ShcjxZAzczMzMzMFUCuR+F6FK4UQHsUrkfhehRApHA9CtejFEAAAAAAAAAVQHE9CtejcBVAUrgehetRFUDD9Shcj8IVQJqZmZmZmRVAj8L1KFyPFUDD9Shcj8IUQIXrUbgehRRAzczMzMzMFEDD9Shcj8IUQLgehetRuBRAhetRuB6FFEAAAAAAAAAUQGZmZmZmZhRA16NwPQrXFEBI4XoUrkcUQD0K16NwPRNAexSuR+F6E0CuR+F6FK4TQM3MzMzMzBNAexSuR+F6E0BmZmZmZmYTQArXo3A9ChNAexSuR+F6EkCF61G4HoUSQPYoXI/C9RNACtejcD0KFECkcD0K16MUQDMzMzMzMxRAUrgehetRE0CuR+F6FK4SQLgehetRuBJAmpmZmZmZEkBI4XoUrkcSQOxRuB6F6xFA7FG4HoXrEUBxPQrXo3ASQDMzMzMzMxJAUrgehetREkBxPQrXo3ATQGZmZmZmZhRAmpmZmZmZFkAfhetRuB4XQMP1KFyPwhdArkfhehSuF0DhehSuR+EWQOF6FK5H4RZACtejcD0KF0DD9Shcj8IVQMP1KFyPwhVArkfhehSuFUBSuB6F61EVQFK4HoXrURVAmpmZmZmZFUA=",
          "dtype": "f8"
         },
         "name": "股价",
         "open": {
          "bdata": "MzMzMzMzFUAzMzMzMzMYQJqZmZmZmRZAZmZmZmZmGEDD9Shcj8IWQAAAAAAAABZAH4XrUbgeGEAAAAAAAAAYQHE9CtejcBhAFK5H4XoUG0CkcD0K16McQJqZmZmZmRxAw/UoXI/CGEBmZmZmZmYaQD0K16NwPRlAAAAAAAAAGUCamZmZmZkXQBSuR+F6FBhAuB6F61G4GUBmZmZmZmYaQDMzMzMzMxtAmpmZmZmZGkAzMzMzMzMZQD0K16NwPRpAmpmZmZmZF0BmZmZmZmYXQM3MzMzMzBdAZmZmZmZmF0CF61G4HoUXQDMzMzMzMxVArkfhehSuFkBI4XoUrkcXQJqZmZmZmRZAzczMzMzMFkCamZmZmZkWQI/C9ShcjxZAKVyPwvUoF0CamZmZmZkXQHsUrkfhehdAZmZmZmZmF0C4HoXrUbgVQM3MzMzMzBRA7FG4HoXrFEAfhetRuB4VQGZmZmZmZhZAXI/C9ShcFUAzMzMzMzMWQB+F61G4HhZA4XoUrkfhFUDsUbgehesVQOF6FK5H4RRAAAAAAAAAFUBmZmZmZmYVQOF6FK5H4RRAuB6F61G4FECF61G4HoUUQIXrUbgehRRAKVyPwvUoFUBmZmZmZmYVQEjhehSuRxRAmpmZmZmZE0DhehSuR+ETQBSuR+F6FBRAzczMzMzME0CkcD0K16MTQD0K16NwPRNAPQrXo3A9E0CamZmZmZkSQClcj8L1KBRAMzMzMzMzFEAUrkfhehQVQM3MzMzMzBRAH4XrUbgeFEAzMzMzMzMTQEjhehSuRxNArkfhehSuEkC4HoXrUbgSQFK4HoXrURJAKVyPwvUoEkAAAAAAAAATQHsUrkfhehJAexSuR+F6EkAzMzMzMzMUQClcj8L1KBVA9ihcj8L1F0ApXI/C9SgXQKRwPQrXoxhASOF6FK5HGECamZmZmZkXQD0K16NwPRdAcT0K16NwF0DsUbgehesWQMP1KFyPwhVAKVyPwvUoFkC4HoXrUbgVQM3MzMzMzBVAMzMzMzMzFkA=",
          "dtype": "f8"
         },
         "type": "candlestick",
         "x": [
          "2024-12-02T00:00:00.000000000",
          "2024-12-03T00:00:00.000000000",
          "2024-12-04T00:00:00.000000000",
          "2024-12-05T00:00:00.000000000",
          "2024-12-06T00:00:00.000000000",
          "2024-12-09T00:00:00.000000000",
          "2024-12-10T00:00:00.000000000",
          "2024-12-11T00:00:00.000000000",
          "2024-12-12T00:00:00.000000000",
          "2024-12-13T00:00:00.000000000",
          "2024-12-16T00:00:00.000000000",
          "2024-12-17T00:00:00.000000000",
          "2024-12-18T00:00:00.000000000",
          "2024-12-19T00:00:00.000000000",
          "2024-12-20T00:00:00.000000000",
          "2024-12-23T00:00:00.000000000",
          "2024-12-24T00:00:00.000000000",
          "2024-12-25T00:00:00.000000000",
          "2024-12-26T00:00:00.000000000",
          "2024-12-27T00:00:00.000000000",
          "2024-12-30T00:00:00.000000000",
          "2024-12-31T00:00:00.000000000",
          "2025-01-02T00:00:00.000000000",
          "2025-01-03T00:00:00.000000000",
          "2025-01-06T00:00:00.000000000",
          "2025-01-07T00:00:00.000000000",
          "2025-01-08T00:00:00.000000000",
          "2025-01-09T00:00:00.000000000",
          "2025-01-10T00:00:00.000000000",
          "2025-01-13T00:00:00.000000000",
          "2025-01-14T00:00:00.000000000",
          "2025-01-15T00:00:00.000000000",
          "2025-01-16T00:00:00.000000000",
          "2025-01-17T00:00:00.000000000",
          "2025-01-20T00:00:00.000000000",
          "2025-01-21T00:00:00.000000000",
          "2025-01-22T00:00:00.000000000",
          "2025-01-23T00:00:00.000000000",
          "2025-01-24T00:00:00.000000000",
          "2025-01-27T00:00:00.000000000",
          "2025-02-05T00:00:00.000000000",
          "2025-02-06T00:00:00.000000000",
          "2025-02-07T00:00:00.000000000",
          "2025-02-10T00:00:00.000000000",
          "2025-02-11T00:00:00.000000000",
          "2025-02-12T00:00:00.000000000",
          "2025-02-13T00:00:00.000000000",
          "2025-02-14T00:00:00.000000000",
          "2025-02-17T00:00:00.000000000",
          "2025-02-18T00:00:00.000000000",
          "2025-02-19T00:00:00.000000000",
          "2025-02-20T00:00:00.000000000",
          "2025-02-21T00:00:00.000000000",
          "2025-02-24T00:00:00.000000000",
          "2025-02-25T00:00:00.000000000",
          "2025-02-26T00:00:00.000000000",
          "2025-02-27T00:00:00.000000000",
          "2025-02-28T00:00:00.000000000",
          "2025-03-03T00:00:00.000000000",
          "2025-03-04T00:00:00.000000000",
          "2025-03-05T00:00:00.000000000",
          "2025-03-06T00:00:00.000000000",
          "2025-03-07T00:00:00.000000000",
          "2025-03-10T00:00:00.000000000",
          "2025-03-11T00:00:00.000000000",
          "2025-03-12T00:00:00.000000000",
          "2025-03-13T00:00:00.000000000",
          "2025-03-14T00:00:00.000000000",
          "2025-03-17T00:00:00.000000000",
          "2025-03-18T00:00:00.000000000",
          "2025-03-19T00:00:00.000000000",
          "2025-03-20T00:00:00.000000000",
          "2025-03-21T00:00:00.000000000",
          "2025-03-24T00:00:00.000000000",
          "2025-03-25T00:00:00.000000000",
          "2025-03-26T00:00:00.000000000",
          "2025-03-27T00:00:00.000000000",
          "2025-03-28T00:00:00.000000000",
          "2025-03-31T00:00:00.000000000",
          "2025-04-01T00:00:00.000000000",
          "2025-04-02T00:00:00.000000000",
          "2025-04-03T00:00:00.000000000",
          "2025-04-07T00:00:00.000000000",
          "2025-04-08T00:00:00.000000000",
          "2025-04-09T00:00:00.000000000",
          "2025-04-10T00:00:00.000000000",
          "2025-04-11T00:00:00.000000000",
          "2025-04-14T00:00:00.000000000",
          "2025-04-15T00:00:00.000000000",
          "2025-04-16T00:00:00.000000000",
          "2025-04-17T00:00:00.000000000",
          "2025-04-18T00:00:00.000000000",
          "2025-04-21T00:00:00.000000000",
          "2025-04-22T00:00:00.000000000",
          "2025-04-23T00:00:00.000000000",
          "2025-04-24T00:00:00.000000000",
          "2025-04-25T00:00:00.000000000"
         ],
         "xaxis": "x",
         "yaxis": "y"
        },
        {
         "line": {
          "color": "#636EFA",
          "width": 1.5
         },
         "mode": "lines",
         "name": "MA5",
         "opacity": 0.8,
         "type": "scatter",
         "x": [
          "2024-12-02T00:00:00.000000000",
          "2024-12-03T00:00:00.000000000",
          "2024-12-04T00:00:00.000000000",
          "2024-12-05T00:00:00.000000000",
          "2024-12-06T00:00:00.000000000",
          "2024-12-09T00:00:00.000000000",
          "2024-12-10T00:00:00.000000000",
          "2024-12-11T00:00:00.000000000",
          "2024-12-12T00:00:00.000000000",
          "2024-12-13T00:00:00.000000000",
          "2024-12-16T00:00:00.000000000",
          "2024-12-17T00:00:00.000000000",
          "2024-12-18T00:00:00.000000000",
          "2024-12-19T00:00:00.000000000",
          "2024-12-20T00:00:00.000000000",
          "2024-12-23T00:00:00.000000000",
          "2024-12-24T00:00:00.000000000",
          "2024-12-25T00:00:00.000000000",
          "2024-12-26T00:00:00.000000000",
          "2024-12-27T00:00:00.000000000",
          "2024-12-30T00:00:00.000000000",
          "2024-12-31T00:00:00.000000000",
          "2025-01-02T00:00:00.000000000",
          "2025-01-03T00:00:00.000000000",
          "2025-01-06T00:00:00.000000000",
          "2025-01-07T00:00:00.000000000",
          "2025-01-08T00:00:00.000000000",
          "2025-01-09T00:00:00.000000000",
          "2025-01-10T00:00:00.000000000",
          "2025-01-13T00:00:00.000000000",
          "2025-01-14T00:00:00.000000000",
          "2025-01-15T00:00:00.000000000",
          "2025-01-16T00:00:00.000000000",
          "2025-01-17T00:00:00.000000000",
          "2025-01-20T00:00:00.000000000",
          "2025-01-21T00:00:00.000000000",
          "2025-01-22T00:00:00.000000000",
          "2025-01-23T00:00:00.000000000",
          "2025-01-24T00:00:00.000000000",
          "2025-01-27T00:00:00.000000000",
          "2025-02-05T00:00:00.000000000",
          "2025-02-06T00:00:00.000000000",
          "2025-02-07T00:00:00.000000000",
          "2025-02-10T00:00:00.000000000",
          "2025-02-11T00:00:00.000000000",
          "2025-02-12T00:00:00.000000000",
          "2025-02-13T00:00:00.000000000",
          "2025-02-14T00:00:00.000000000",
          "2025-02-17T00:00:00.000000000",
          "2025-02-18T00:00:00.000000000",
          "2025-02-19T00:00:00.000000000",
          "2025-02-20T00:00:00.000000000",
          "2025-02-21T00:00:00.000000000",
          "2025-02-24T00:00:00.000000000",
          "2025-02-25T00:00:00.000000000",
          "2025-02-26T00:00:00.000000000",
          "2025-02-27T00:00:00.000000000",
          "2025-02-28T00:00:00.000000000",
          "2025-03-03T00:00:00.000000000",
          "2025-03-04T00:00:00.000000000",
          "2025-03-05T00:00:00.000000000",
          "2025-03-06T00:00:00.000000000",
          "2025-03-07T00:00:00.000000000",
          "2025-03-10T00:00:00.000000000",
          "2025-03-11T00:00:00.000000000",
          "2025-03-12T00:00:00.000000000",
          "2025-03-13T00:00:00.000000000",
          "2025-03-14T00:00:00.000000000",
          "2025-03-17T00:00:00.000000000",
          "2025-03-18T00:00:00.000000000",
          "2025-03-19T00:00:00.000000000",
          "2025-03-20T00:00:00.000000000",
          "2025-03-21T00:00:00.000000000",
          "2025-03-24T00:00:00.000000000",
          "2025-03-25T00:00:00.000000000",
          "2025-03-26T00:00:00.000000000",
          "2025-03-27T00:00:00.000000000",
          "2025-03-28T00:00:00.000000000",
          "2025-03-31T00:00:00.000000000",
          "2025-04-01T00:00:00.000000000",
          "2025-04-02T00:00:00.000000000",
          "2025-04-03T00:00:00.000000000",
          "2025-04-07T00:00:00.000000000",
          "2025-04-08T00:00:00.000000000",
          "2025-04-09T00:00:00.000000000",
          "2025-04-10T00:00:00.000000000",
          "2025-04-11T00:00:00.000000000",
          "2025-04-14T00:00:00.000000000",
          "2025-04-15T00:00:00.000000000",
          "2025-04-16T00:00:00.000000000",
          "2025-04-17T00:00:00.000000000",
          "2025-04-18T00:00:00.000000000",
          "2025-04-21T00:00:00.000000000",
          "2025-04-22T00:00:00.000000000",
          "2025-04-23T00:00:00.000000000",
          "2025-04-24T00:00:00.000000000",
          "2025-04-25T00:00:00.000000000"
         ],
         "xaxis": "x",
         "y": {
          "bdata": "vXSTGARWE0Dl0CLb+X4UQEoMAiuHFhZAcmiR7Xw/F0CDwMqhRbYXQESLbOf7qRdAWDm0yHa+F0D6fmq8dJMXQOj7qfHSTRhAukkMAiuHGUCoxks3iUEbQFYOLbKd7xtA+6nx0k1iHEDYo3A9CtcbQH5qvHSTGBtAI9v5fmq8GUAehetRuB4ZQPhT46WbxBhAaZHtfD81GUBYObTIdr4ZQDIIrBxaZBpA+n5qvHSTGkCtHFpkO98aQFK4HoXrURpA+n5qvHSTGUDAyqFFtvMYQG8Sg8DKoRhAgpVDi2znF0CS7Xw/NV4XQB6F61G4HhdAf2q8dJMYF0AW2c73U+MWQDeJQWDl0BZAFtnO91PjFkDiehSuR+EWQML1KFyPwhZA61G4HoXrFkAK16NwPQoXQOf7qfHSTRdAKVyPwvUoF0DjpZvEILAWQGmR7Xw/NRZAI9v5fmq8FUDm0CLb+X4VQKabxCCwchVAI9v5fmq8FUDLoUW28/0VQHWTGARWDhZAoBov3SQGFkCsHFpkO98VQM/3U+OlmxVAcj0K16NwFUAdWmQ7308VQHWTGARWDhVAarx0kxgEFUAhsHJoke0UQNijcD0K1xRA4noUrkfhFEA3iUFg5dAUQEOLbOf7qRRAj8L1KFyPFEAnMQisHFoUQEoMAiuHFhRA9ihcj8L1E0CBlUOLbOcTQML1KFyPwhNAEFg5tMh2E0CbxCCwcmgTQDvfT42XbhNAokW28/3UE0ApXI/C9SgUQBov3SQGgRRAPN9PjZduFEA9CtejcD0UQK5H4XoUrhNA3iQGgZVDE0DhehSuR+ESQARWDi2ynRJApHA9CtejEkD6fmq8dJMSQLpJDAIrhxJAIbByaJHtEkAQWDm0yHYTQP7UeOkmMRRAhhbZzvdTFUCamZmZmZkWQPLSTWIQWBdAi2zn+6nxF0C1yHa+nxoYQOBPjZduEhhAItv5fmq8F0Dy0k1iEFgXQNV46SYxCBdAGARWDi2yFkDdJAaBlUMWQOomMQisHBZA1njpJjEIFkA=",
          "dtype": "f8"
         },
         "yaxis": "y"
        },
        {
         "line": {
          "color": "#EF553B",
          "width": 1.5
         },
         "mode": "lines",
         "name": "MA10",
         "opacity": 0.8,
         "type": "scatter",
         "x": [
          "2024-12-02T00:00:00.000000000",
          "2024-12-03T00:00:00.000000000",
          "2024-12-04T00:00:00.000000000",
          "2024-12-05T00:00:00.000000000",
          "2024-12-06T00:00:00.000000000",
          "2024-12-09T00:00:00.000000000",
          "2024-12-10T00:00:00.000000000",
          "2024-12-11T00:00:00.000000000",
          "2024-12-12T00:00:00.000000000",
          "2024-12-13T00:00:00.000000000",
          "2024-12-16T00:00:00.000000000",
          "2024-12-17T00:00:00.000000000",
          "2024-12-18T00:00:00.000000000",
          "2024-12-19T00:00:00.000000000",
          "2024-12-20T00:00:00.000000000",
          "2024-12-23T00:00:00.000000000",
          "2024-12-24T00:00:00.000000000",
          "2024-12-25T00:00:00.000000000",
          "2024-12-26T00:00:00.000000000",
          "2024-12-27T00:00:00.000000000",
          "2024-12-30T00:00:00.000000000",
          "2024-12-31T00:00:00.000000000",
          "2025-01-02T00:00:00.000000000",
          "2025-01-03T00:00:00.000000000",
          "2025-01-06T00:00:00.000000000",
          "2025-01-07T00:00:00.000000000",
          "2025-01-08T00:00:00.000000000",
          "2025-01-09T00:00:00.000000000",
          "2025-01-10T00:00:00.000000000",
          "2025-01-13T00:00:00.000000000",
          "2025-01-14T00:00:00.000000000",
          "2025-01-15T00:00:00.000000000",
          "2025-01-16T00:00:00.000000000",
          "2025-01-17T00:00:00.000000000",
          "2025-01-20T00:00:00.000000000",
          "2025-01-21T00:00:00.000000000",
          "2025-01-22T00:00:00.000000000",
          "2025-01-23T00:00:00.000000000",
          "2025-01-24T00:00:00.000000000",
          "2025-01-27T00:00:00.000000000",
          "2025-02-05T00:00:00.000000000",
          "2025-02-06T00:00:00.000000000",
          "2025-02-07T00:00:00.000000000",
          "2025-02-10T00:00:00.000000000",
          "2025-02-11T00:00:00.000000000",
          "2025-02-12T00:00:00.000000000",
          "2025-02-13T00:00:00.000000000",
          "2025-02-14T00:00:00.000000000",
          "2025-02-17T00:00:00.000000000",
          "2025-02-18T00:00:00.000000000",
          "2025-02-19T00:00:00.000000000",
          "2025-02-20T00:00:00.000000000",
          "2025-02-21T00:00:00.000000000",
          "2025-02-24T00:00:00.000000000",
          "2025-02-25T00:00:00.000000000",
          "2025-02-26T00:00:00.000000000",
          "2025-02-27T00:00:00.000000000",
          "2025-02-28T00:00:00.000000000",
          "2025-03-03T00:00:00.000000000",
          "2025-03-04T00:00:00.000000000",
          "2025-03-05T00:00:00.000000000",
          "2025-03-06T00:00:00.000000000",
          "2025-03-07T00:00:00.000000000",
          "2025-03-10T00:00:00.000000000",
          "2025-03-11T00:00:00.000000000",
          "2025-03-12T00:00:00.000000000",
          "2025-03-13T00:00:00.000000000",
          "2025-03-14T00:00:00.000000000",
          "2025-03-17T00:00:00.000000000",
          "2025-03-18T00:00:00.000000000",
          "2025-03-19T00:00:00.000000000",
          "2025-03-20T00:00:00.000000000",
          "2025-03-21T00:00:00.000000000",
          "2025-03-24T00:00:00.000000000",
          "2025-03-25T00:00:00.000000000",
          "2025-03-26T00:00:00.000000000",
          "2025-03-27T00:00:00.000000000",
          "2025-03-28T00:00:00.000000000",
          "2025-03-31T00:00:00.000000000",
          "2025-04-01T00:00:00.000000000",
          "2025-04-02T00:00:00.000000000",
          "2025-04-03T00:00:00.000000000",
          "2025-04-07T00:00:00.000000000",
          "2025-04-08T00:00:00.000000000",
          "2025-04-09T00:00:00.000000000",
          "2025-04-10T00:00:00.000000000",
          "2025-04-11T00:00:00.000000000",
          "2025-04-14T00:00:00.000000000",
          "2025-04-15T00:00:00.000000000",
          "2025-04-16T00:00:00.000000000",
          "2025-04-17T00:00:00.000000000",
          "2025-04-18T00:00:00.000000000",
          "2025-04-21T00:00:00.000000000",
          "2025-04-22T00:00:00.000000000",
          "2025-04-23T00:00:00.000000000",
          "2025-04-24T00:00:00.000000000",
          "2025-04-25T00:00:00.000000000"
         ],
         "xaxis": "x",
         "y": {
          "bdata": "rBxaZDtfEkAAAAAAAAATQOf7qfHSzRNAVg4tsp1vFEDKoUW28/0UQAAAAAAAgBVAHoXrUbgeFkCiRbbz/dQWQC2yne+nxhdAH4XrUbieGED2KFyPwnUZQNijcD0K1xlAexSuR+H6GUDeT42XbhIaQB1aZDvfTxpA5dAi2/l+GkC6SQwCK4caQPp+arx0kxpAoBov3SSGGkDrUbgehWsaQKrx0k1iEBpADQIrhxbZGUBSuB6F69EZQN0kBoGVwxlAKlyPwvWoGUB66SYxCKwZQLXIdr6fmhlAFtnO91NjGUDy0k1iENgYQAwCK4cWWRhAoBov3SQGGEDC9Shcj8IXQFyPwvUoXBdAVOOlm8QgF0AAAAAAAAAXQCGwcmiR7RZAgZVDi2znFkAisHJoke0WQH9qvHSTGBdAhutRuB4FF0DSTWIQWLkWQKrx0k1ikBZAFtnO91NjFkBmZmZmZmYWQOj7qfHSTRZAg8DKoUU2FkCamZmZmRkWQEs3iUFg5RVAwvUoXI/CFUApXI/C9agVQHrpJjEIrBVAnu+nxku3FUDJdr6fGq8VQArXo3A9ihVAi2zn+6lxFUD4U+Olm0QVQKRwPQrXIxVAf2q8dJMYFUBWDi2yne8UQNejcD0K1xRAWDm0yHa+FEB+arx0k5gUQJZDi2znexRAFtnO91NjFEBiEFg5tEgUQClcj8L1KBRAm8QgsHLoE0BzaJHtfL8TQBgEVg4tshNAku18PzXeE0D2KFyPwvUTQJZDi2zn+xNA7FG4HoXrE0C9dJMYBNYTQKjGSzeJwRNAg8DKoUW2E0D+1HjpJrETQJ8aL90khhNAcT0K16NwE0BU46WbxCATQEs3iUFg5RJAgZVDi2znEkAK16NwPQoTQNEi2/l+ahNAwcqhRbbzE0Cq8dJNYpAUQIlBYOXQIhVATmIQWDm0FUDazvdT4yUWQDMzMzMzsxZAXrpJDAIrF0Dy0k1iEFgXQLByaJHtfBdAZmZmZmZmF0BeukkMAisXQAaBlUOL7BZA5KWbxCCwFkA=",
          "dtype": "f8"
         },
         "yaxis": "y"
        },
        {
         "line": {
          "color": "#00CC96",
          "width": 1.5
         },
         "mode": "lines",
         "name": "MA20",
         "opacity": 0.8,
         "type": "scatter",
         "x": [
          "2024-12-02T00:00:00.000000000",
          "2024-12-03T00:00:00.000000000",
          "2024-12-04T00:00:00.000000000",
          "2024-12-05T00:00:00.000000000",
          "2024-12-06T00:00:00.000000000",
          "2024-12-09T00:00:00.000000000",
          "2024-12-10T00:00:00.000000000",
          "2024-12-11T00:00:00.000000000",
          "2024-12-12T00:00:00.000000000",
          "2024-12-13T00:00:00.000000000",
          "2024-12-16T00:00:00.000000000",
          "2024-12-17T00:00:00.000000000",
          "2024-12-18T00:00:00.000000000",
          "2024-12-19T00:00:00.000000000",
          "2024-12-20T00:00:00.000000000",
          "2024-12-23T00:00:00.000000000",
          "2024-12-24T00:00:00.000000000",
          "2024-12-25T00:00:00.000000000",
          "2024-12-26T00:00:00.000000000",
          "2024-12-27T00:00:00.000000000",
          "2024-12-30T00:00:00.000000000",
          "2024-12-31T00:00:00.000000000",
          "2025-01-02T00:00:00.000000000",
          "2025-01-03T00:00:00.000000000",
          "2025-01-06T00:00:00.000000000",
          "2025-01-07T00:00:00.000000000",
          "2025-01-08T00:00:00.000000000",
          "2025-01-09T00:00:00.000000000",
          "2025-01-10T00:00:00.000000000",
          "2025-01-13T00:00:00.000000000",
          "2025-01-14T00:00:00.000000000",
          "2025-01-15T00:00:00.000000000",
          "2025-01-16T00:00:00.000000000",
          "2025-01-17T00:00:00.000000000",
          "2025-01-20T00:00:00.000000000",
          "2025-01-21T00:00:00.000000000",
          "2025-01-22T00:00:00.000000000",
          "2025-01-23T00:00:00.000000000",
          "2025-01-24T00:00:00.000000000",
          "2025-01-27T00:00:00.000000000",
          "2025-02-05T00:00:00.000000000",
          "2025-02-06T00:00:00.000000000",
          "2025-02-07T00:00:00.000000000",
          "2025-02-10T00:00:00.000000000",
          "2025-02-11T00:00:00.000000000",
          "2025-02-12T00:00:00.000000000",
          "2025-02-13T00:00:00.000000000",
          "2025-02-14T00:00:00.000000000",
          "2025-02-17T00:00:00.000000000",
          "2025-02-18T00:00:00.000000000",
          "2025-02-19T00:00:00.000000000",
          "2025-02-20T00:00:00.000000000",
          "2025-02-21T00:00:00.000000000",
          "2025-02-24T00:00:00.000000000",
          "2025-02-25T00:00:00.000000000",
          "2025-02-26T00:00:00.000000000",
          "2025-02-27T00:00:00.000000000",
          "2025-02-28T00:00:00.000000000",
          "2025-03-03T00:00:00.000000000",
          "2025-03-04T00:00:00.000000000",
          "2025-03-05T00:00:00.000000000",
          "2025-03-06T00:00:00.000000000",
          "2025-03-07T00:00:00.000000000",
          "2025-03-10T00:00:00.000000000",
          "2025-03-11T00:00:00.000000000",
          "2025-03-12T00:00:00.000000000",
          "2025-03-13T00:00:00.000000000",
          "2025-03-14T00:00:00.000000000",
          "2025-03-17T00:00:00.000000000",
          "2025-03-18T00:00:00.000000000",
          "2025-03-19T00:00:00.000000000",
          "2025-03-20T00:00:00.000000000",
          "2025-03-21T00:00:00.000000000",
          "2025-03-24T00:00:00.000000000",
          "2025-03-25T00:00:00.000000000",
          "2025-03-26T00:00:00.000000000",
          "2025-03-27T00:00:00.000000000",
          "2025-03-28T00:00:00.000000000",
          "2025-03-31T00:00:00.000000000",
          "2025-04-01T00:00:00.000000000",
          "2025-04-02T00:00:00.000000000",
          "2025-04-03T00:00:00.000000000",
          "2025-04-07T00:00:00.000000000",
          "2025-04-08T00:00:00.000000000",
          "2025-04-09T00:00:00.000000000",
          "2025-04-10T00:00:00.000000000",
          "2025-04-11T00:00:00.000000000",
          "2025-04-14T00:00:00.000000000",
          "2025-04-15T00:00:00.000000000",
          "2025-04-16T00:00:00.000000000",
          "2025-04-17T00:00:00.000000000",
          "2025-04-18T00:00:00.000000000",
          "2025-04-21T00:00:00.000000000",
          "2025-04-22T00:00:00.000000000",
          "2025-04-23T00:00:00.000000000",
          "2025-04-24T00:00:00.000000000",
          "2025-04-25T00:00:00.000000000"
         ],
         "xaxis": "x",
         "y": {
          "bdata": "dr6fGi/dEkACK4cW2Q4TQNEi2/l+ahNAokW28/2UE0AisHJoka0TQC2yne+nxhNAppvEILDyE0B7FK5H4ToUQHE9CtejsBRAjpduEoNAFUDRItv5fuoVQOtRuB6FaxZAMgisHFrkFkAaL90kBkEXQPP91HjpphdAc2iR7Xz/F0Bt5/up8VIYQE5iEFg5tBhAZmZmZmYmGUCF61G4HoUZQFCNl24SwxlA8tJNYhDYGUBmZmZmZuYZQF66SQwC6xlAI9v5fmr8GUAw3SQGgRUaQDiJQWDlEBpACKwcWmT7GUDKdr6fGq8ZQPyp8dJNYhlAJQaBlUMLGUDn+6nx0s0YQNejcD0KlxhAGQRWDi1yGEAUrkfhelQYQM3MzMzMTBhAGi/dJAZBGECcxCCwcigYQLgehetR+BdAyXa+nxqvF0A6tMh2vl8XQLbz/dR4KRdAOrTIdr7fFkDdJAaBlcMWQPT91HjpphZAUrgeheuRFkCOl24Sg4AWQLbz/dR4aRZAIbByaJFtFkDXo3A9ClcWQKabxCCwMhZApHA9CtcjFkDvp8ZLNwkWQLkehetR+BVAOrTIdr7fFUA+CtejcL0VQB6F61G4nhVA5tAi2/l+FUANAiuHFlkVQAAAAAAAQBVAaJHtfD81FUAOLbKd7ycVQC/dJAaBFRVAEVg5tMj2FEB2vp8aL90UQBBYObTIthRAoBov3SSGFEB56SYxCGwUQDeJQWDlUBRAtMh2vp9aFEAnMQisHFoUQArXo3A9ShRAwcqhRbYzFEDpJjEIrBwUQIXrUbgeBRRAVg4tsp3vE0DNzMzMzMwTQIlBYOXQohNAxSCwcmiRE0ByaJHtfH8TQCGwcmiRbRNAi2zn+6lxE0B6FK5H4XoTQMZLN4lBoBNAtch2vp/aE0AW2c73UyMUQEOLbOf7aRRAd76fGi+dFEAlBoGVQ8sUQEOLbOf76RRA1XjpJjEIFUA6tMh2vh8VQN0kBoGVQxVAnMQgsHJoFUCPwvUoXI8VQFg5tMh2vhVAtvP91HjpFUA=",
          "dtype": "f8"
         },
         "yaxis": "y"
        },
        {
         "line": {
          "color": "#AB63FA",
          "width": 1.5
         },
         "mode": "lines",
         "name": "MA30",
         "opacity": 0.8,
         "type": "scatter",
         "x": [
          "2024-12-02T00:00:00.000000000",
          "2024-12-03T00:00:00.000000000",
          "2024-12-04T00:00:00.000000000",
          "2024-12-05T00:00:00.000000000",
          "2024-12-06T00:00:00.000000000",
          "2024-12-09T00:00:00.000000000",
          "2024-12-10T00:00:00.000000000",
          "2024-12-11T00:00:00.000000000",
          "2024-12-12T00:00:00.000000000",
          "2024-12-13T00:00:00.000000000",
          "2024-12-16T00:00:00.000000000",
          "2024-12-17T00:00:00.000000000",
          "2024-12-18T00:00:00.000000000",
          "2024-12-19T00:00:00.000000000",
          "2024-12-20T00:00:00.000000000",
          "2024-12-23T00:00:00.000000000",
          "2024-12-24T00:00:00.000000000",
          "2024-12-25T00:00:00.000000000",
          "2024-12-26T00:00:00.000000000",
          "2024-12-27T00:00:00.000000000",
          "2024-12-30T00:00:00.000000000",
          "2024-12-31T00:00:00.000000000",
          "2025-01-02T00:00:00.000000000",
          "2025-01-03T00:00:00.000000000",
          "2025-01-06T00:00:00.000000000",
          "2025-01-07T00:00:00.000000000",
          "2025-01-08T00:00:00.000000000",
          "2025-01-09T00:00:00.000000000",
          "2025-01-10T00:00:00.000000000",
          "2025-01-13T00:00:00.000000000",
          "2025-01-14T00:00:00.000000000",
          "2025-01-15T00:00:00.000000000",
          "2025-01-16T00:00:00.000000000",
          "2025-01-17T00:00:00.000000000",
          "2025-01-20T00:00:00.000000000",
          "2025-01-21T00:00:00.000000000",
          "2025-01-22T00:00:00.000000000",
          "2025-01-23T00:00:00.000000000",
          "2025-01-24T00:00:00.000000000",
          "2025-01-27T00:00:00.000000000",
          "2025-02-05T00:00:00.000000000",
          "2025-02-06T00:00:00.000000000",
          "2025-02-07T00:00:00.000000000",
          "2025-02-10T00:00:00.000000000",
          "2025-02-11T00:00:00.000000000",
          "2025-02-12T00:00:00.000000000",
          "2025-02-13T00:00:00.000000000",
          "2025-02-14T00:00:00.000000000",
          "2025-02-17T00:00:00.000000000",
          "2025-02-18T00:00:00.000000000",
          "2025-02-19T00:00:00.000000000",
          "2025-02-20T00:00:00.000000000",
          "2025-02-21T00:00:00.000000000",
          "2025-02-24T00:00:00.000000000",
          "2025-02-25T00:00:00.000000000",
          "2025-02-26T00:00:00.000000000",
          "2025-02-27T00:00:00.000000000",
          "2025-02-28T00:00:00.000000000",
          "2025-03-03T00:00:00.000000000",
          "2025-03-04T00:00:00.000000000",
          "2025-03-05T00:00:00.000000000",
          "2025-03-06T00:00:00.000000000",
          "2025-03-07T00:00:00.000000000",
          "2025-03-10T00:00:00.000000000",
          "2025-03-11T00:00:00.000000000",
          "2025-03-12T00:00:00.000000000",
          "2025-03-13T00:00:00.000000000",
          "2025-03-14T00:00:00.000000000",
          "2025-03-17T00:00:00.000000000",
          "2025-03-18T00:00:00.000000000",
          "2025-03-19T00:00:00.000000000",
          "2025-03-20T00:00:00.000000000",
          "2025-03-21T00:00:00.000000000",
          "2025-03-24T00:00:00.000000000",
          "2025-03-25T00:00:00.000000000",
          "2025-03-26T00:00:00.000000000",
          "2025-03-27T00:00:00.000000000",
          "2025-03-28T00:00:00.000000000",
          "2025-03-31T00:00:00.000000000",
          "2025-04-01T00:00:00.000000000",
          "2025-04-02T00:00:00.000000000",
          "2025-04-03T00:00:00.000000000",
          "2025-04-07T00:00:00.000000000",
          "2025-04-08T00:00:00.000000000",
          "2025-04-09T00:00:00.000000000",
          "2025-04-10T00:00:00.000000000",
          "2025-04-11T00:00:00.000000000",
          "2025-04-14T00:00:00.000000000",
          "2025-04-15T00:00:00.000000000",
          "2025-04-16T00:00:00.000000000",
          "2025-04-17T00:00:00.000000000",
          "2025-04-18T00:00:00.000000000",
          "2025-04-21T00:00:00.000000000",
          "2025-04-22T00:00:00.000000000",
          "2025-04-23T00:00:00.000000000",
          "2025-04-24T00:00:00.000000000",
          "2025-04-25T00:00:00.000000000"
         ],
         "xaxis": "x",
         "y": {
          "bdata": "IPeaC0lTEkDday4kTakSQFfHBA/mCRNA16NwPQpXE0B8zYWkKZUTQKnGSzeJwRNA8oslv1jyE0AiIiIiIiIUQIxs5/upcRRAbS4kTam4FED24TPsChAVQJ6ofyOUURVAtMh2vp+aFUALSVMqzr4VQMvobVmr4xVAa7x0kxgEFkBXgNxrLiQWQKXi7MNnWBZA1jHBg3miFkCt1THBg/kWQBm9LWt1TBdA9uEz7AqQF0CS7Xw/Nd4XQLErQO41FxhABci95kJSGEB0kxgEVo4YQNqHz7ArwBhAPN9PjZfuGEA/NV66SQwZQAfzRP0bIRlAFWcfPsMuGUCN3pa1OiYZQA502kCnDRlAsHJoke38GEAWkqZUnP0YQNV46SYxCBlAUI2XbhIDGUAQWDm0yPYYQAXIveZC0hhAf2q8dJOYGEBfcyFpSkUYQCmjt2WtDhhAQmDl0CLbF0DeJAaBlcMXQFsdEzyYpxdAtMh2vp+aF0Dwp8ZLN4kXQIGVQ4tsZxdAvLu7u7s7F0DqbVmrYwIXQE8b6LSBzhZArkfhehSuFkAT9W+EMnoWQEFg5dAiWxZAJngwT9Q/FkCKQWDl0CIWQEA1XrpJDBZA+sWSXyz5FUCJz7ArQO4VQNejcD0K1xVANtBpA522FUDtw2fYFaAVQNHbslbHhBVA11xImlJxFUDy0k1iEFgVQDbQaQOdNhVA80T9G6EMFUBqA5020OkUQGWtjgkezBRAME/UvxHKFECXbhKDwMoUQJE0peLswxRAGQRWDi2yFEBKDAIrh5YUQDHBg3mifhRA4XoUrkdhFEC/WPKLJT8UQIWkKRVnHxRAoBov3SQGFEA+fIZdAfITQN7d3d3d3RNAhxbZzvfTE0CEeaL+jdATQOF6FK5H4RNAmuDBPFH/E0Byr7mQNCUUQAxJUyrOPhRAIPeaC0lTFEAgsHJokW0UQF0Bcq+5kBRA4Ahl9LasFEBZObTIdr4UQDeJQWDl0BRA/Knx0k3iFEBCGb0ta/UUQBERERERERVAeekmMQgsFUA=",
          "dtype": "f8"
         },
         "yaxis": "y"
        },
        {
         "line": {
          "color": "#FFA07A",
          "width": 1.5
         },
         "mode": "lines",
         "name": "MA45",
         "opacity": 0.8,
         "type": "scatter",
         "x": [
          "2024-12-02T00:00:00.000000000",
          "2024-12-03T00:00:00.000000000",
          "2024-12-04T00:00:00.000000000",
          "2024-12-05T00:00:00.000000000",
          "2024-12-06T00:00:00.000000000",
          "2024-12-09T00:00:00.000000000",
          "2024-12-10T00:00:00.000000000",
          "2024-12-11T00:00:00.000000000",
          "2024-12-12T00:00:00.000000000",
          "2024-12-13T00:00:00.000000000",
          "2024-12-16T00:00:00.000000000",
          "2024-12-17T00:00:00.000000000",
          "2024-12-18T00:00:00.000000000",
          "2024-12-19T00:00:00.000000000",
          "2024-12-20T00:00:00.000000000",
          "2024-12-23T00:00:00.000000000",
          "2024-12-24T00:00:00.000000000",
          "2024-12-25T00:00:00.000000000",
          "2024-12-26T00:00:00.000000000",
          "2024-12-27T00:00:00.000000000",
          "2024-12-30T00:00:00.000000000",
          "2024-12-31T00:00:00.000000000",
          "2025-01-02T00:00:00.000000000",
          "2025-01-03T00:00:00.000000000",
          "2025-01-06T00:00:00.000000000",
          "2025-01-07T00:00:00.000000000",
          "2025-01-08T00:00:00.000000000",
          "2025-01-09T00:00:00.000000000",
          "2025-01-10T00:00:00.000000000",
          "2025-01-13T00:00:00.000000000",
          "2025-01-14T00:00:00.000000000",
          "2025-01-15T00:00:00.000000000",
          "2025-01-16T00:00:00.000000000",
          "2025-01-17T00:00:00.000000000",
          "2025-01-20T00:00:00.000000000",
          "2025-01-21T00:00:00.000000000",
          "2025-01-22T00:00:00.000000000",
          "2025-01-23T00:00:00.000000000",
          "2025-01-24T00:00:00.000000000",
          "2025-01-27T00:00:00.000000000",
          "2025-02-05T00:00:00.000000000",
          "2025-02-06T00:00:00.000000000",
          "2025-02-07T00:00:00.000000000",
          "2025-02-10T00:00:00.000000000",
          "2025-02-11T00:00:00.000000000",
          "2025-02-12T00:00:00.000000000",
          "2025-02-13T00:00:00.000000000",
          "2025-02-14T00:00:00.000000000",
          "2025-02-17T00:00:00.000000000",
          "2025-02-18T00:00:00.000000000",
          "2025-02-19T00:00:00.000000000",
          "2025-02-20T00:00:00.000000000",
          "2025-02-21T00:00:00.000000000",
          "2025-02-24T00:00:00.000000000",
          "2025-02-25T00:00:00.000000000",
          "2025-02-26T00:00:00.000000000",
          "2025-02-27T00:00:00.000000000",
          "2025-02-28T00:00:00.000000000",
          "2025-03-03T00:00:00.000000000",
          "2025-03-04T00:00:00.000000000",
          "2025-03-05T00:00:00.000000000",
          "2025-03-06T00:00:00.000000000",
          "2025-03-07T00:00:00.000000000",
          "2025-03-10T00:00:00.000000000",
          "2025-03-11T00:00:00.000000000",
          "2025-03-12T00:00:00.000000000",
          "2025-03-13T00:00:00.000000000",
          "2025-03-14T00:00:00.000000000",
          "2025-03-17T00:00:00.000000000",
          "2025-03-18T00:00:00.000000000",
          "2025-03-19T00:00:00.000000000",
          "2025-03-20T00:00:00.000000000",
          "2025-03-21T00:00:00.000000000",
          "2025-03-24T00:00:00.000000000",
          "2025-03-25T00:00:00.000000000",
          "2025-03-26T00:00:00.000000000",
          "2025-03-27T00:00:00.000000000",
          "2025-03-28T00:00:00.000000000",
          "2025-03-31T00:00:00.000000000",
          "2025-04-01T00:00:00.000000000",
          "2025-04-02T00:00:00.000000000",
          "2025-04-03T00:00:00.000000000",
          "2025-04-07T00:00:00.000000000",
          "2025-04-08T00:00:00.000000000",
          "2025-04-09T00:00:00.000000000",
          "2025-04-10T00:00:00.000000000",
          "2025-04-11T00:00:00.000000000",
          "2025-04-14T00:00:00.000000000",
          "2025-04-15T00:00:00.000000000",
          "2025-04-16T00:00:00.000000000",
          "2025-04-17T00:00:00.000000000",
          "2025-04-18T00:00:00.000000000",
          "2025-04-21T00:00:00.000000000",
          "2025-04-22T00:00:00.000000000",
          "2025-04-23T00:00:00.000000000",
          "2025-04-24T00:00:00.000000000",
          "2025-04-25T00:00:00.000000000"
         ],
         "xaxis": "x",
         "y": {
          "bdata": "dnLVns5kEEDFjb1TULMQQKO3Za2OCRFAThvotIFOEUByQqyvTIMRQEcoo7dlrRFAqX8jlNHbEUAr9CO6thkSQPd0JgsjbhJA33Vy1Z7OEkBKeQ8MbzgTQOQ4juM4jhNA+MDwhoPmE0DuyAmxvjIUQMB+18lVexRA3nDQ/PW7FEAce6egZvkUQOJZ0UjANxVAsHJoke18FUAqFWcfPsMVQKnsMHW5/RVABApEsVElFkBhxI29U1AWQKabxCCwchZAmJT3wPCGFkCKjSphMZsWQLLkF0t+sRZAQ/h5yOPLFkCeqH8jlNEWQHe+nxov3RZAN/ZOQc3yFkAQDG84aP4WQCW6thnjEhdAOWj++l0nF0CsY4IH80QXQGZmZmZmZhdAzvKxCv2IF0Ai1lemwakXQDBP1L8RyhdAs1bHBA/mF0D8YskvlvwXQLr9QYbKDhhA3rf4n60hGEAoxPrKNDgYQPw85PFlQBhAQacNdNpAGEDUTWIQWDkYQFTjpZvEIBhAnoKa5WMVGEAegEl5DwwYQMHPQx5fBhhAK4cW2c73F0BYpsGpXuAXQB8+w64AuRdAaXCqF7iLF0CXIkgHYFIXQBztVlr3LRdAcvbhM+wKF0BHAr55NfEWQICQobLD1BZAv1jyiyW/FkAeOSHWV6YWQO0KkHvNhRZAOtqttO5bFkCEDJUdpi4WQHrI48uAAhZAyzQ41QvcFUCy5BdLfrEVQKmlCNIBmBVAJQaBlUOLFUAU9W+EMnoVQIkbe6egZhVAcdD89btOFUAu/mdrCD8VQG7GuERqKRVAyQmxvjINFUBKn/RJn/QUQPpYhX5E1xRA6Ud0bTPGFEA3HDR//a4UQMi95kLSlBRAUI2XbhKDFED6EV3bjHEUQLIK/YiubRRAexSuR+F6FEBO9QJ3UZIUQF8GFIhioxRABluwBVuwFEB0tFtp3bcUQIEoNqqExRRA3Ng7BTXLFEAOmr9+18kUQGatjgkezBRAuiMnxPrKFEAV1Cwfq9AUQFFsVAmL2RRA/PW7Tq7aFEA=",
          "dtype": "f8"
         },
         "yaxis": "y"
        },
        {
         "marker": {
          "color": [
           "#E3342F",
           "#2CA453",
           "#E3342F",
           "#2CA453",
           "#2CA453",
           "#2CA453",
           "#2CA453",
           "#E3342F",
           "#E3342F",
           "#E3342F",
           "#E3342F",
           "#2CA453",
           "#E3342F",
           "#2CA453",
           "#2CA453",
           "#2CA453",
           "#E3342F",
           "#E3342F",
           "#E3342F",
           "#E3342F",
           "#2CA453",
           "#2CA453",
           "#E3342F",
           "#2CA453",
           "#E3342F",
           "#E3342F",
           "#2CA453",
           "#E3342F",
           "#2CA453",
           "#E3342F",
           "#E3342F",
           "#2CA453",
           "#E3342F",
           "#2CA453",
           "#2CA453",
           "#E3342F",
           "#E3342F",
           "#E3342F",
           "#2CA453",
           "#2CA453",
           "#2CA453",
           "#E3342F",
           "#E3342F",
           "#E3342F",
           "#2CA453",
           "#E3342F",
           "#E3342F",
           "#2CA453",
           "#E3342F",
           "#2CA453",
           "#E3342F",
           "#E3342F",
           "#2CA453",
           "#2CA453",
           "#2CA453",
           "#2CA453",
           "#E3342F",
           "#E3342F",
           "#2CA453",
           "#2CA453",
           "#E3342F",
           "#E3342F",
           "#2CA453",
           "#E3342F",
           "#2CA453",
           "#2CA453",
           "#2CA453",
           "#E3342F",
           "#2CA453",
           "#E3342F",
           "#2CA453",
           "#2CA453",
           "#2CA453",
           "#2CA453",
           "#2CA453",
           "#E3342F",
           "#2CA453",
           "#2CA453",
           "#E3342F",
           "#2CA453",
           "#E3342F",
           "#E3342F",
           "#E3342F",
           "#E3342F",
           "#E3342F",
           "#E3342F",
           "#2CA453",
           "#2CA453",
           "#2CA453",
           "#E3342F",
           "#2CA453",
           "#2CA453",
           "#E3342F",
           "#2CA453",
           "#E3342F",
           "#E3342F",
           "#2CA453"
          ]
         },
         "name": "成交量(手)",
         "opacity": 0.7,
         "type": "bar",
         "x": [
          "2024-12-02T00:00:00.000000000",
          "2024-12-03T00:00:00.000000000",
          "2024-12-04T00:00:00.000000000",
          "2024-12-05T00:00:00.000000000",
          "2024-12-06T00:00:00.000000000",
          "2024-12-09T00:00:00.000000000",
          "2024-12-10T00:00:00.000000000",
          "2024-12-11T00:00:00.000000000",
          "2024-12-12T00:00:00.000000000",
          "2024-12-13T00:00:00.000000000",
          "2024-12-16T00:00:00.000000000",
          "2024-12-17T00:00:00.000000000",
          "2024-12-18T00:00:00.000000000",
          "2024-12-19T00:00:00.000000000",
          "2024-12-20T00:00:00.000000000",
          "2024-12-23T00:00:00.000000000",
          "2024-12-24T00:00:00.000000000",
          "2024-12-25T00:00:00.000000000",
          "2024-12-26T00:00:00.000000000",
          "2024-12-27T00:00:00.000000000",
          "2024-12-30T00:00:00.000000000",
          "2024-12-31T00:00:00.000000000",
          "2025-01-02T00:00:00.000000000",
          "2025-01-03T00:00:00.000000000",
          "2025-01-06T00:00:00.000000000",
          "2025-01-07T00:00:00.000000000",
          "2025-01-08T00:00:00.000000000",
          "2025-01-09T00:00:00.000000000",
          "2025-01-10T00:00:00.000000000",
          "2025-01-13T00:00:00.000000000",
          "2025-01-14T00:00:00.000000000",
          "2025-01-15T00:00:00.000000000",
          "2025-01-16T00:00:00.000000000",
          "2025-01-17T00:00:00.000000000",
          "2025-01-20T00:00:00.000000000",
          "2025-01-21T00:00:00.000000000",
          "2025-01-22T00:00:00.000000000",
          "2025-01-23T00:00:00.000000000",
          "2025-01-24T00:00:00.000000000",
          "2025-01-27T00:00:00.000000000",
          "2025-02-05T00:00:00.000000000",
          "2025-02-06T00:00:00.000000000",
          "2025-02-07T00:00:00.000000000",
          "2025-02-10T00:00:00.000000000",
          "2025-02-11T00:00:00.000000000",
          "2025-02-12T00:00:00.000000000",
          "2025-02-13T00:00:00.000000000",
          "2025-02-14T00:00:00.000000000",
          "2025-02-17T00:00:00.000000000",
          "2025-02-18T00:00:00.000000000",
          "2025-02-19T00:00:00.000000000",
          "2025-02-20T00:00:00.000000000",
          "2025-02-21T00:00:00.000000000",
          "2025-02-24T00:00:00.000000000",
          "2025-02-25T00:00:00.000000000",
          "2025-02-26T00:00:00.000000000",
          "2025-02-27T00:00:00.000000000",
          "2025-02-28T00:00:00.000000000",
          "2025-03-03T00:00:00.000000000",
          "2025-03-04T00:00:00.000000000",
          "2025-03-05T00:00:00.000000000",
          "2025-03-06T00:00:00.000000000",
          "2025-03-07T00:00:00.000000000",
          "2025-03-10T00:00:00.000000000",
          "2025-03-11T00:00:00.000000000",
          "2025-03-12T00:00:00.000000000",
          "2025-03-13T00:00:00.000000000",
          "2025-03-14T00:00:00.000000000",
          "2025-03-17T00:00:00.000000000",
          "2025-03-18T00:00:00.000000000",
          "2025-03-19T00:00:00.000000000",
          "2025-03-20T00:00:00.000000000",
          "2025-03-21T00:00:00.000000000",
          "2025-03-24T00:00:00.000000000",
          "2025-03-25T00:00:00.000000000",
          "2025-03-26T00:00:00.000000000",
          "2025-03-27T00:00:00.000000000",
          "2025-03-28T00:00:00.000000000",
          "2025-03-31T00:00:00.000000000",
          "2025-04-01T00:00:00.000000000",
          "2025-04-02T00:00:00.000000000",
          "2025-04-03T00:00:00.000000000",
          "2025-04-07T00:00:00.000000000",
          "2025-04-08T00:00:00.000000000",
          "2025-04-09T00:00:00.000000000",
          "2025-04-10T00:00:00.000000000",
          "2025-04-11T00:00:00.000000000",
          "2025-04-14T00:00:00.000000000",
          "2025-04-15T00:00:00.000000000",
          "2025-04-16T00:00:00.000000000",
          "2025-04-17T00:00:00.000000000",
          "2025-04-18T00:00:00.000000000",
          "2025-04-21T00:00:00.000000000",
          "2025-04-22T00:00:00.000000000",
          "2025-04-23T00:00:00.000000000",
          "2025-04-24T00:00:00.000000000",
          "2025-04-25T00:00:00.000000000"
         ],
         "xaxis": "x2",
         "y": {
          "bdata": "AAAAgB5hQ0F7FK6/8fNnQXsUrjdwmGpB4XoUTh7xZUHsUbjeeRBfQa5H4eqx1FNB16Nw/a/VP0EfhetRYPJjQbgehTun22VBw/UolEwjakHNzMzMtItqQWZmZjZ49lBBexSuN+hrYkEpXI9yuGFbQaRwPXqC51RBmpmZ6X58VEH2KFxvRtBWQc3MzNxP21pBuB6F2+tQX0FxPQqfnpxhQVK4HuWKjFVBPQrX0+nFVkHsUbjePFxkQZqZmZlMkF9BUrge5XEiV0HD9Sjs67RVQTMzM+MVQ1NBFK5HoZ2yT0EK16NgpQ9SQSlcjxKXSlBBSOF6JPgKVEFSuB4VbDBTQa5H4brE8lJBPQrXw8vbT0GPwvWIdgxLQVyPwuXIUFJB9ihcDzbCUUEUrkdxwpZSQRSuR2HhtUtBKVyPQo21SUGamZm5uUNNQWZmZsYwFUdBH4XrcQclTkGPwvVoTxlSQbgehatW7EdBcT0Kt4bMR0EUrkexOy1QQeF6FC4XCUZB4XoU7g1+SUF7FK4H9OJLQeF6FG5ek0FBSOF6NDwlTUGkcD3KzypGQfYoXG/4QkNBexSux130QUHsUbg+uhhFQZqZmQl/xVRBrkfhqpokVUEzMzPTHgVJQdejcD0+J0hBCtej8CN3QkEfheuRc/5CQVK4HkVkND5BmpmZmcFjOkFcj8L10LA+QXE9CnfHzUVBw/UoPFXkQkFxPQqXKJ1OQR+F6yGcflBBzczM/AyGXEGuR+Eq28NSQdejcB1N605BCtejcFSqRkHhehTu8Es/QYXrUXhvWjZBpHA9yvBsMEFI4XoUqHM3QeF6FG6VkzdB7FG4HpXbSEGPwvVoCCA+QQAAAEC6KDJBuB6Fi702VUE9CtdbfItgQaRwPZqmEVRB4XoUvkDrZ0GamZmZxERlQWZmZlYtw19BUrgeRd+3XkFSuB7VMfFaQY/C9bgRhllBcT0KJwIaVUGkcD1KSSNVQaRwPUpjVUxB4XoUTifGSUEfhetxXUxMQRSuR4EpilVB9ihcD3pGTEE=",
          "dtype": "f8"
         },
         "yaxis": "y3"
        }
       ],
       "layout": {
        "dragmode": "pan",
        "hovermode": "x unified",
        "legend": {
         "orientation": "h",
         "x": 1,
         "xanchor": "right",
         "y": 1.02,
         "yanchor": "bottom"
        },
        "margin": {
         "b": 20,
         "l": 40,
         "r": 40,
         "t": 40
        },
        "template": {
         "data": {
          "bar": [
           {
            "error_x": {
             "color": "#2a3f5f"
            },
            "error_y": {
             "color": "#2a3f5f"
            },
            "marker": {
             "line": {
              "color": "white",
              "width": 0.5
             },
             "pattern": {
              "fillmode": "overlay",
              "size": 10,
              "solidity": 0.2
             }
            },
            "type": "bar"
           }
          ],
          "barpolar": [
           {
            "marker": {
             "line": {
              "color": "white",
              "width": 0.5
             },
             "pattern": {
              "fillmode": "overlay",
              "size": 10,
              "solidity": 0.2
             }
            },
            "type": "barpolar"
           }
          ],
          "carpet": [
           {
            "aaxis": {
             "endlinecolor": "#2a3f5f",
             "gridcolor": "#C8D4E3",
             "linecolor": "#C8D4E3",
             "minorgridcolor": "#C8D4E3",
             "startlinecolor": "#2a3f5f"
            },
            "baxis": {
             "endlinecolor": "#2a3f5f",
             "gridcolor": "#C8D4E3",
             "linecolor": "#C8D4E3",
             "minorgridcolor": "#C8D4E3",
             "startlinecolor": "#2a3f5f"
            },
            "type": "carpet"
           }
          ],
          "choropleth": [
           {
            "colorbar": {
             "outlinewidth": 0,
             "ticks": ""
            },
            "type": "choropleth"
           }
          ],
          "contour": [
           {
            "colorbar": {
             "outlinewidth": 0,
             "ticks": ""
            },
            "colorscale": [
             [
              0,
              "#0d0887"
             ],
             [
              0.1111111111111111,
              "#46039f"
             ],
             [
              0.2222222222222222,
              "#7201a8"
             ],
             [
              0.3333333333333333,
              "#9c179e"
             ],
             [
              0.4444444444444444,
              "#bd3786"
             ],
             [
              0.5555555555555556,
              "#d8576b"
             ],
             [
              0.6666666666666666,
              "#ed7953"
             ],
             [
              0.7777777777777778,
              "#fb9f3a"
             ],
             [
              0.8888888888888888,
              "#fdca26"
             ],
             [
              1,
              "#f0f921"
             ]
            ],
            "type": "contour"
           }
          ],
          "contourcarpet": [
           {
            "colorbar": {
             "outlinewidth": 0,
             "ticks": ""
            },
            "type": "contourcarpet"
           }
          ],
          "heatmap": [
           {
            "colorbar": {
             "outlinewidth": 0,
             "ticks": ""
            },
            "colorscale": [
             [
              0,
              "#0d0887"
             ],
             [
              0.1111111111111111,
              "#46039f"
             ],
             [
              0.2222222222222222,
              "#7201a8"
             ],
             [
              0.3333333333333333,
              "#9c179e"
             ],
             [
              0.4444444444444444,
              "#bd3786"
             ],
             [
              0.5555555555555556,
              "#d8576b"
             ],
             [
              0.6666666666666666,
              "#ed7953"
             ],
             [
              0.7777777777777778,
              "#fb9f3a"
             ],
             [
              0.8888888888888888,
              "#fdca26"
             ],
             [
              1,
              "#f0f921"
             ]
            ],
            "type": "heatmap"
           }
          ],
          "histogram": [
           {
            "marker": {
             "pattern": {
              "fillmode": "overlay",
              "size": 10,
              "solidity": 0.2
             }
            },
            "type": "histogram"
           }
          ],
          "histogram2d": [
           {
            "colorbar": {
             "outlinewidth": 0,
             "ticks": ""
            },
            "colorscale": [
             [
              0,
              "#0d0887"
             ],
             [
              0.1111111111111111,
              "#46039f"
             ],
             [
              0.2222222222222222,
              "#7201a8"
             ],
             [
              0.3333333333333333,
              "#9c179e"
             ],
             [
              0.4444444444444444,
              "#bd3786"
             ],
             [
              0.5555555555555556,
              "#d8576b"
             ],
             [
              0.6666666666666666,
              "#ed7953"
             ],
             [
              0.7777777777777778,
              "#fb9f3a"
             ],
             [
              0.8888888888888888,
              "#fdca26"
             ],
             [
              1,
              "#f0f921"
             ]
            ],
            "type": "histogram2d"
           }
          ],
          "histogram2dcontour": [
           {
            "colorbar": {
             "outlinewidth": 0,
             "ticks": ""
            },
            "colorscale": [
             [
              0,
              "#0d0887"
             ],
             [
              0.1111111111111111,
              "#46039f"
             ],
             [
              0.2222222222222222,
              "#7201a8"
             ],
             [
              0.3333333333333333,
              "#9c179e"
             ],
             [
              0.4444444444444444,
              "#bd3786"
             ],
             [
              0.5555555555555556,
              "#d8576b"
             ],
             [
              0.6666666666666666,
              "#ed7953"
             ],
             [
              0.7777777777777778,
              "#fb9f3a"
             ],
             [
              0.8888888888888888,
              "#fdca26"
             ],
             [
              1,
              "#f0f921"
             ]
            ],
            "type": "histogram2dcontour"
           }
          ],
          "mesh3d": [
           {
            "colorbar": {
             "outlinewidth": 0,
             "ticks": ""
            },
            "type": "mesh3d"
           }
          ],
          "parcoords": [
           {
            "line": {
             "colorbar": {
              "outlinewidth": 0,
              "ticks": ""
             }
            },
            "type": "parcoords"
           }
          ],
          "pie": [
           {
            "automargin": true,
            "type": "pie"
           }
          ],
          "scatter": [
           {
            "fillpattern": {
             "fillmode": "overlay",
             "size": 10,
             "solidity": 0.2
            },
            "type": "scatter"
           }
          ],
          "scatter3d": [
           {
            "line": {
             "colorbar": {
              "outlinewidth": 0,
              "ticks": ""
             }
            },
            "marker": {
             "colorbar": {
              "outlinewidth": 0,
              "ticks": ""
             }
            },
            "type": "scatter3d"
           }
          ],
          "scattercarpet": [
           {
            "marker": {
             "colorbar": {
              "outlinewidth": 0,
              "ticks": ""
             }
            },
            "type": "scattercarpet"
           }
          ],
          "scattergeo": [
           {
            "marker": {
             "colorbar": {
              "outlinewidth": 0,
              "ticks": ""
             }
            },
            "type": "scattergeo"
           }
          ],
          "scattergl": [
           {
            "marker": {
             "colorbar": {
              "outlinewidth": 0,
              "ticks": ""
             }
            },
            "type": "scattergl"
           }
          ],
          "scattermap": [
           {
            "marker": {
             "colorbar": {
              "outlinewidth": 0,
              "ticks": ""
             }
            },
            "type": "scattermap"
           }
          ],
          "scattermapbox": [
           {
            "marker": {
             "colorbar": {
              "outlinewidth": 0,
              "ticks": ""
             }
            },
            "type": "scattermapbox"
           }
          ],
          "scatterpolar": [
           {
            "marker": {
             "colorbar": {
              "outlinewidth": 0,
              "ticks": ""
             }
            },
            "type": "scatterpolar"
           }
          ],
          "scatterpolargl": [
           {
            "marker": {
             "colorbar": {
              "outlinewidth": 0,
              "ticks": ""
             }
            },
            "type": "scatterpolargl"
           }
          ],
          "scatterternary": [
           {
            "marker": {
             "colorbar": {
              "outlinewidth": 0,
              "ticks": ""
             }
            },
            "type": "scatterternary"
           }
          ],
          "surface": [
           {
            "colorbar": {
             "outlinewidth": 0,
             "ticks": ""
            },
            "colorscale": [
             [
              0,
              "#0d0887"
             ],
             [
              0.1111111111111111,
              "#46039f"
             ],
             [
              0.2222222222222222,
              "#7201a8"
             ],
             [
              0.3333333333333333,
              "#9c179e"
             ],
             [
              0.4444444444444444,
              "#bd3786"
             ],
             [
              0.5555555555555556,
              "#d8576b"
             ],
             [
              0.6666666666666666,
              "#ed7953"
             ],
             [
              0.7777777777777778,
              "#fb9f3a"
             ],
             [
              0.8888888888888888,
              "#fdca26"
             ],
             [
              1,
              "#f0f921"
             ]
            ],
            "type": "surface"
           }
          ],
          "table": [
           {
            "cells": {
             "fill": {
              "color": "#EBF0F8"
             },
             "line": {
              "color": "white"
             }
            },
            "header": {
             "fill": {
              "color": "#C8D4E3"
             },
             "line": {
              "color": "white"
             }
            },
            "type": "table"
           }
          ]
         },
         "layout": {
          "annotationdefaults": {
           "arrowcolor": "#2a3f5f",
           "arrowhead": 0,
           "arrowwidth": 1
          },
          "autotypenumbers": "strict",
          "coloraxis": {
           "colorbar": {
            "outlinewidth": 0,
            "ticks": ""
           }
          },
          "colorscale": {
           "diverging": [
            [
             0,
             "#8e0152"
            ],
            [
             0.1,
             "#c51b7d"
            ],
            [
             0.2,
             "#de77ae"
            ],
            [
             0.3,
             "#f1b6da"
            ],
            [
             0.4,
             "#fde0ef"
            ],
            [
             0.5,
             "#f7f7f7"
            ],
            [
             0.6,
             "#e6f5d0"
            ],
            [
             0.7,
             "#b8e186"
            ],
            [
             0.8,
             "#7fbc41"
            ],
            [
             0.9,
             "#4d9221"
            ],
            [
             1,
             "#276419"
            ]
           ],
           "sequential": [
            [
             0,
             "#0d0887"
            ],
            [
             0.1111111111111111,
             "#46039f"
            ],
            [
             0.2222222222222222,
             "#7201a8"
            ],
            [
             0.3333333333333333,
             "#9c179e"
            ],
            [
             0.4444444444444444,
             "#bd3786"
            ],
            [
             0.5555555555555556,
             "#d8576b"
            ],
            [
             0.6666666666666666,
             "#ed7953"
            ],
            [
             0.7777777777777778,
             "#fb9f3a"
            ],
            [
             0.8888888888888888,
             "#fdca26"
            ],
            [
             1,
             "#f0f921"
            ]
           ],
           "sequentialminus": [
            [
             0,
             "#0d0887"
            ],
            [
             0.1111111111111111,
             "#46039f"
            ],
            [
             0.2222222222222222,
             "#7201a8"
            ],
            [
             0.3333333333333333,
             "#9c179e"
            ],
            [
             0.4444444444444444,
             "#bd3786"
            ],
            [
             0.5555555555555556,
             "#d8576b"
            ],
            [
             0.6666666666666666,
             "#ed7953"
            ],
            [
             0.7777777777777778,
             "#fb9f3a"
            ],
            [
             0.8888888888888888,
             "#fdca26"
            ],
            [
             1,
             "#f0f921"
            ]
           ]
          },
          "colorway": [
           "#636efa",
           "#EF553B",
           "#00cc96",
           "#ab63fa",
           "#FFA15A",
           "#19d3f3",
           "#FF6692",
           "#B6E880",
           "#FF97FF",
           "#FECB52"
          ],
          "font": {
           "color": "#2a3f5f"
          },
          "geo": {
           "bgcolor": "white",
           "lakecolor": "white",
           "landcolor": "white",
           "showlakes": true,
           "showland": true,
           "subunitcolor": "#C8D4E3"
          },
          "hoverlabel": {
           "align": "left"
          },
          "hovermode": "closest",
          "mapbox": {
           "style": "light"
          },
          "paper_bgcolor": "white",
          "plot_bgcolor": "white",
          "polar": {
           "angularaxis": {
            "gridcolor": "#EBF0F8",
            "linecolor": "#EBF0F8",
            "ticks": ""
           },
           "bgcolor": "white",
           "radialaxis": {
            "gridcolor": "#EBF0F8",
            "linecolor": "#EBF0F8",
            "ticks": ""
           }
          },
          "scene": {
           "xaxis": {
            "backgroundcolor": "white",
            "gridcolor": "#DFE8F3",
            "gridwidth": 2,
            "linecolor": "#EBF0F8",
            "showbackground": true,
            "ticks": "",
            "zerolinecolor": "#EBF0F8"
           },
           "yaxis": {
            "backgroundcolor": "white",
            "gridcolor": "#DFE8F3",
            "gridwidth": 2,
            "linecolor": "#EBF0F8",
            "showbackground": true,
            "ticks": "",
            "zerolinecolor": "#EBF0F8"
           },
           "zaxis": {
            "backgroundcolor": "white",
            "gridcolor": "#DFE8F3",
            "gridwidth": 2,
            "linecolor": "#EBF0F8",
            "showbackground": true,
            "ticks": "",
            "zerolinecolor": "#EBF0F8"
           }
          },
          "shapedefaults": {
           "line": {
            "color": "#2a3f5f"
           }
          },
          "ternary": {
           "aaxis": {
            "gridcolor": "#DFE8F3",
            "linecolor": "#A2B1C6",
            "ticks": ""
           },
           "baxis": {
            "gridcolor": "#DFE8F3",
            "linecolor": "#A2B1C6",
            "ticks": ""
           },
           "bgcolor": "white",
           "caxis": {
            "gridcolor": "#DFE8F3",
            "linecolor": "#A2B1C6",
            "ticks": ""
           }
          },
          "title": {
           "x": 0.05
          },
          "xaxis": {
           "automargin": true,
           "gridcolor": "#EBF0F8",
           "linecolor": "#EBF0F8",
           "ticks": "",
           "title": {
            "standoff": 15
           },
           "zerolinecolor": "#EBF0F8",
           "zerolinewidth": 2
          },
          "yaxis": {
           "automargin": true,
           "gridcolor": "#EBF0F8",
           "linecolor": "#EBF0F8",
           "ticks": "",
           "title": {
            "standoff": 15
           },
           "zerolinecolor": "#EBF0F8",
           "zerolinewidth": 2
          }
         }
        },
        "title": {
         "font": {
          "size": 20
         },
         "text": "永辉超市",
         "x": 0.5
        },
        "xaxis": {
         "anchor": "y",
         "domain": [
          0,
          0.94
         ],
         "gridcolor": "rgba(200, 200, 200, 0.2)",
         "matches": "x2",
         "rangebreaks": [
          {
           "values": [
            "2024-12-07T00:00:00",
            "2024-12-08T00:00:00",
            "2024-12-14T00:00:00",
            "2024-12-15T00:00:00",
            "2024-12-21T00:00:00",
            "2024-12-22T00:00:00",
            "2024-12-28T00:00:00",
            "2024-12-29T00:00:00",
            "2025-01-01T00:00:00",
            "2025-01-04T00:00:00",
            "2025-01-05T00:00:00",
            "2025-01-11T00:00:00",
            "2025-01-12T00:00:00",
            "2025-01-18T00:00:00",
            "2025-01-19T00:00:00",
            "2025-01-25T00:00:00",
            "2025-01-26T00:00:00",
            "2025-01-28T00:00:00",
            "2025-01-29T00:00:00",
            "2025-01-30T00:00:00",
            "2025-01-31T00:00:00",
            "2025-02-01T00:00:00",
            "2025-02-02T00:00:00",
            "2025-02-03T00:00:00",
            "2025-02-04T00:00:00",
            "2025-02-08T00:00:00",
            "2025-02-09T00:00:00",
            "2025-02-15T00:00:00",
            "2025-02-16T00:00:00",
            "2025-02-22T00:00:00",
            "2025-02-23T00:00:00",
            "2025-03-01T00:00:00",
            "2025-03-02T00:00:00",
            "2025-03-08T00:00:00",
            "2025-03-09T00:00:00",
            "2025-03-15T00:00:00",
            "2025-03-16T00:00:00",
            "2025-03-22T00:00:00",
            "2025-03-23T00:00:00",
            "2025-03-29T00:00:00",
            "2025-03-30T00:00:00",
            "2025-04-04T00:00:00",
            "2025-04-05T00:00:00",
            "2025-04-06T00:00:00",
            "2025-04-12T00:00:00",
            "2025-04-13T00:00:00",
            "2025-04-19T00:00:00",
            "2025-04-20T00:00:00"
           ]
          }
         ],
         "rangeselector": {
          "buttons": [
           {
            "count": 1,
            "label": "1M",
            "step": "month",
            "stepmode": "backward"
           },
           {
            "count": 6,
            "label": "6M",
            "step": "month",
            "stepmode": "backward"
           },
           {
            "count": 1,
            "label": "1Y",
            "step": "year",
            "stepmode": "backward"
           },
           {
            "count": 1,
            "label": "YTD",
            "step": "year",
            "stepmode": "todate"
           },
           {
            "step": "all"
           }
          ]
         },
         "rangeslider": {
          "visible": false
         },
         "showticklabels": false,
         "title": {
          "text": "日期"
         },
         "type": "date"
        },
        "xaxis2": {
         "anchor": "y3",
         "domain": [
          0,
          0.94
         ],
         "rangebreaks": [
          {
           "values": [
            "2024-12-07T00:00:00",
            "2024-12-08T00:00:00",
            "2024-12-14T00:00:00",
            "2024-12-15T00:00:00",
            "2024-12-21T00:00:00",
            "2024-12-22T00:00:00",
            "2024-12-28T00:00:00",
            "2024-12-29T00:00:00",
            "2025-01-01T00:00:00",
            "2025-01-04T00:00:00",
            "2025-01-05T00:00:00",
            "2025-01-11T00:00:00",
            "2025-01-12T00:00:00",
            "2025-01-18T00:00:00",
            "2025-01-19T00:00:00",
            "2025-01-25T00:00:00",
            "2025-01-26T00:00:00",
            "2025-01-28T00:00:00",
            "2025-01-29T00:00:00",
            "2025-01-30T00:00:00",
            "2025-01-31T00:00:00",
            "2025-02-01T00:00:00",
            "2025-02-02T00:00:00",
            "2025-02-03T00:00:00",
            "2025-02-04T00:00:00",
            "2025-02-08T00:00:00",
            "2025-02-09T00:00:00",
            "2025-02-15T00:00:00",
            "2025-02-16T00:00:00",
            "2025-02-22T00:00:00",
            "2025-02-23T00:00:00",
            "2025-03-01T00:00:00",
            "2025-03-02T00:00:00",
            "2025-03-08T00:00:00",
            "2025-03-09T00:00:00",
            "2025-03-15T00:00:00",
            "2025-03-16T00:00:00",
            "2025-03-22T00:00:00",
            "2025-03-23T00:00:00",
            "2025-03-29T00:00:00",
            "2025-03-30T00:00:00",
            "2025-04-04T00:00:00",
            "2025-04-05T00:00:00",
            "2025-04-06T00:00:00",
            "2025-04-12T00:00:00",
            "2025-04-13T00:00:00",
            "2025-04-19T00:00:00",
            "2025-04-20T00:00:00"
           ]
          }
         ],
         "rangeselector": {
          "buttons": [
           {
            "count": 1,
            "label": "1M",
            "step": "month",
            "stepmode": "backward"
           },
           {
            "count": 6,
            "label": "6M",
            "step": "month",
            "stepmode": "backward"
           },
           {
            "count": 1,
            "label": "1Y",
            "step": "year",
            "stepmode": "backward"
           },
           {
            "count": 1,
            "label": "YTD",
            "step": "year",
            "stepmode": "todate"
           },
           {
            "step": "all"
           }
          ]
         },
         "rangeslider": {
          "visible": true
         },
         "title": {
          "text": "日期"
         }
        },
        "yaxis": {
         "anchor": "x",
         "domain": [
          0.33499999999999996,
          0.9999999999999999
         ],
         "fixedrange": true,
         "title": {
          "text": "股价"
         }
        },
        "yaxis2": {
         "anchor": "x",
         "fixedrange": true,
         "overlaying": "y",
         "side": "right",
         "title": {
          "text": "股价"
         }
        },
        "yaxis3": {
         "anchor": "x2",
         "domain": [
          0,
          0.285
         ],
         "fixedrange": true,
         "title": {
          "text": "成交量(手)"
         }
        }
       }
      }
     },
     "metadata": {},
     "output_type": "display_data"
    }
   ],
   "source": [
    "plot_candle(\n",
    "    ts_code=name2tscode(\"永辉超市\"),\n",
    "    start_date=\"20241201\",\n",
    "    end_date=\"20250428\",\n",
    "    mavs=[5, 10, 20, 30, 45]\n",
    ")"
   ]
  },
  {
   "cell_type": "code",
   "execution_count": null,
   "id": "abd2979b",
   "metadata": {},
   "outputs": [],
   "source": []
  }
 ],
 "metadata": {
  "kernelspec": {
   "display_name": "stock",
   "language": "python",
   "name": "python3"
  },
  "language_info": {
   "codemirror_mode": {
    "name": "ipython",
    "version": 3
   },
   "file_extension": ".py",
   "mimetype": "text/x-python",
   "name": "python",
   "nbconvert_exporter": "python",
   "pygments_lexer": "ipython3",
   "version": "3.12.9"
  }
 },
 "nbformat": 4,
 "nbformat_minor": 5
}
